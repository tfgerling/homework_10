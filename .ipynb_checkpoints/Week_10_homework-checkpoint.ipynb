{
 "cells": [
  {
   "cell_type": "markdown",
   "id": "76a7bf1b",
   "metadata": {},
   "source": [
    "# Homework for Week 10\n",
    "\n",
    "Please be sure your functions work for vectors with a size of three and matrices that are 3x3. Bonus points if you can further generalize them for larger vectors and matrices.\n"
   ]
  },
  {
   "cell_type": "markdown",
   "id": "00d18ddd",
   "metadata": {},
   "source": [
    "## 1. Explain dot product and cross product. Use LaTeX to show the equations\n",
    "\n",
    "### Dot Product\n",
    "The dot product is a value expressing the angular relationship between two vectors. It shows how much two vectors are going in the same direction.\n",
    "\n",
    "### Cross Product\n",
    "Cross product shows how perpendicular two vectors are to one another.\n",
    "\n",
    "### Equations for each\n",
    "dot product calculation:\n",
    "$$ a \\cdot b = \\|a\\|\\|b\\|\\cos\\theta $$\n",
    "\n",
    "cross product calculation:\n",
    "$$ a \\times b = \\|a\\|\\|b\\|\\sin\\theta $$"
   ]
  },
  {
   "cell_type": "markdown",
   "id": "04f96b06",
   "metadata": {},
   "source": [
    "## 2. Write a function angle_between(v1, v2) where v1 and v2 are two vectors that are passed in, and the angle between them is calculated.\n"
   ]
  },
  {
   "cell_type": "code",
   "execution_count": 44,
   "id": "14bc54e4",
   "metadata": {},
   "outputs": [],
   "source": [
    "#The angle between two vectors can be calculated using the formula, which states that the angle cos \n",
    "#of two vectors is equal to the dot product of two vectors divided by the dot product of the mod of two vectors.\n",
    "# First will find the dot product, then the mod, then divide to get the angle cos. Using math.degrees and math.acos,\n",
    "# will convert the angle in degrees\n",
    "import numpy as np\n",
    "from numpy.linalg import norm\n",
    "import math\n",
    "\n",
    "def angle_between(v1, v2):\n",
    "    try:\n",
    "\n",
    "        if np.shape(v1) != np.shape(v2):\n",
    "            print('vectors must be same length')\n",
    "            return\n",
    "        \n",
    "        #calculate dot product between the vectors\n",
    "        dot_prd1 = np.dot(v1,v2.T) \n",
    "  \n",
    "        # Calculate the mod of the 2 vectors using norm() function\n",
    "        mod_vector = norm(v1) * norm(v2)\n",
    "        if mod_vector == 0:\n",
    "            print('mod of the vectors must be greater than 0')\n",
    "            return\n",
    "        \n",
    "        # Calculate the cosine by dividing dot product by mod\n",
    "        cos_angle = dot_prd1/mod_vector\n",
    "       \n",
    "        # Calculate the angle in degrees using math.degrees(), math.acos() functions\n",
    "        angle_deg = math.degrees(math.acos(cos_angle))\n",
    "   \n",
    "        return angle_deg\n",
    "    except Exception as e:\n",
    "        print(e)\n"
   ]
  },
  {
   "cell_type": "code",
   "execution_count": 62,
   "id": "a2e0c825",
   "metadata": {},
   "outputs": [
    {
     "name": "stdout",
     "output_type": "stream",
     "text": [
      "angle between 2 arrays:51.71%\n"
     ]
    }
   ],
   "source": [
    "# checking result with valid data\n",
    "a=np.array([[10,9,2]])\n",
    "b=np.array([[2,3,6]])\n",
    "print('angle between 2 arrays:'\"{:.2%}\".format(angle_between(a,b)/100))"
   ]
  },
  {
   "cell_type": "code",
   "execution_count": 64,
   "id": "ab6c72f2",
   "metadata": {},
   "outputs": [
    {
     "name": "stdout",
     "output_type": "stream",
     "text": [
      "mod of the vectors must be greater than 0\n",
      "None\n"
     ]
    }
   ],
   "source": [
    "# checking result with one array of 0's\n",
    "a=np.array([[0,0,0]])\n",
    "b=np.array([[2,3,6]])\n",
    "print(angle_between(a,b))"
   ]
  },
  {
   "cell_type": "code",
   "execution_count": 47,
   "id": "65398e94",
   "metadata": {},
   "outputs": [
    {
     "name": "stdout",
     "output_type": "stream",
     "text": [
      "vectors must be same length\n"
     ]
    }
   ],
   "source": [
    "# checking result with arrays that do not match in length\n",
    "angle_between(np.array([[10,9,2,3]]),np.array([[2,3,6]]))\n"
   ]
  },
  {
   "cell_type": "code",
   "execution_count": 65,
   "id": "fe164df7",
   "metadata": {},
   "outputs": [
    {
     "name": "stdout",
     "output_type": "stream",
     "text": [
      "angle between 2 arrays:53.13%\n"
     ]
    }
   ],
   "source": [
    "# checking result with larger vectors\n",
    "a=np.array([[10,9,2,3,0,1]])\n",
    "b=np.array([[2,3,6,4,2,3]])\n",
    "#angle_between(np.array([[10,9,2,3,0,1]]),np.array([[2,3,6,4,2,3]]))\n",
    "print('angle between 2 arrays:'\"{:.2%}\".format(angle_between(a,b)/100))"
   ]
  },
  {
   "cell_type": "markdown",
   "id": "4418773a",
   "metadata": {},
   "source": [
    "## 3. Write a function called row_dot(A, r1, r2) which takes an input matrix called A, one row number identified by r1, and another row number identified by r2 and returns the dot product of the r1 and r2 rows (indexing starts at 0)."
   ]
  },
  {
   "cell_type": "code",
   "execution_count": 28,
   "id": "573e6e3a",
   "metadata": {},
   "outputs": [],
   "source": [
    "#function row_dot takes a matrix as input as well as which 2 rows will be used to calculate the dot product. The resulting\n",
    "#scalar is the result of multiplying the values in the rows and adding them together\n",
    "def row_dot(A,r1,r2):\n",
    "    try:\n",
    "        #dot_prod = dot(A[r1],A[r2])\n",
    "        dot_prod = 0\n",
    "        try:\n",
    "            for i in range(len(A[r1])) and range(len(A[r2])):\n",
    "                dot_prod = dot_prod + (A[r1][i] * A[r2][i]) #adding the product as it iterates through\n",
    "            return dot_prod\n",
    "        except IndexError:\n",
    "            print('Arrays must be same size')\n",
    "        except TypeError:\n",
    "            print('All values must be numeric')\n",
    "        except Exception as e:\n",
    "            return e\n",
    "    \n",
    "    except Exception as e:\n",
    "        print(e)\n"
   ]
  },
  {
   "cell_type": "code",
   "execution_count": 67,
   "id": "0bd8bcd2",
   "metadata": {},
   "outputs": [
    {
     "name": "stdout",
     "output_type": "stream",
     "text": [
      "dot product is: 50\n"
     ]
    }
   ],
   "source": [
    "#hecking result of calling function row_dot\n",
    "print('dot product is:',row_dot(np.array([[1,2,3],\n",
    "                  [4,5,6],\n",
    "                  [7,8,9]]),0,2))\n"
   ]
  },
  {
   "cell_type": "code",
   "execution_count": 68,
   "id": "6d208064",
   "metadata": {},
   "outputs": [
    {
     "name": "stdout",
     "output_type": "stream",
     "text": [
      "dot product verified as: 50\n"
     ]
    }
   ],
   "source": [
    "#using np.dot to verify results received from manually calculating the dot product above\n",
    "v1=np.array([1,2,3])\n",
    "v2=np.array([7,8,9])\n",
    "print('dot product verified as:',np.dot(v1,v2))"
   ]
  },
  {
   "cell_type": "code",
   "execution_count": 31,
   "id": "8a51e836",
   "metadata": {},
   "outputs": [
    {
     "name": "stdout",
     "output_type": "stream",
     "text": [
      "All values must be numeric\n"
     ]
    }
   ],
   "source": [
    "#checking result when error should be thrown\n",
    "row_dot(np.array([[1,2,3,5],\n",
    "                  [4,5,6,'a'],\n",
    "                  [7,8,9,'b']]),0,2)"
   ]
  },
  {
   "cell_type": "code",
   "execution_count": 69,
   "id": "1ebffe81",
   "metadata": {},
   "outputs": [
    {
     "name": "stdout",
     "output_type": "stream",
     "text": [
      "another dot product result: 77\n"
     ]
    }
   ],
   "source": [
    "#checking result of using larger matrix\n",
    "print('another dot product result:',row_dot(np.array([[1,2,3,5],\n",
    "                  [4,5,6,9],\n",
    "                  [7,8,9,1]]),0,1))\n"
   ]
  },
  {
   "cell_type": "markdown",
   "id": "d67f6d21",
   "metadata": {},
   "source": [
    "## 4. Write a function matrix_division(m1, m2) that takes in two matrices, m1 and m2, and returns the result. What is the trick with matrix division?\n",
    "\n",
    "The trick to matrix division is that technically there is no such thing as matrix division. The closest equivalent is multiplying by the inverse of the second matrix. Divisor matrix needs to be square. The number of columns in the first matrix must match the number of rows in the second one.\n"
   ]
  },
  {
   "cell_type": "code",
   "execution_count": 70,
   "id": "a4a715c2",
   "metadata": {},
   "outputs": [],
   "source": [
    "# Find the determinant of the divisor matrix to see if it's possible to \"divide\". The determinant must be non-zero.\n",
    "# Find inverse of second matrix in, store in m3\n",
    "# Multiply first matrix passed by inverse of second one\n",
    "import numpy as np\n",
    "from numpy.linalg import det # det() function will be used to find determinant of m2 \n",
    "from numpy.linalg import inv # inv() function will be used to find the inverse of m2 to use in calculation\n",
    "\n",
    "def matrix_division(m1,m2):\n",
    "    try:\n",
    "        if det(m2) != 0:\n",
    "            m3 = inv(m2)\n",
    "        else:\n",
    "            print('determinant is not greater than zero')\n",
    "            return\n",
    "\n",
    "        # multiply m1 by inverse of m2, stored as m3\n",
    "        return np.dot(m1,m3)\n",
    "\n",
    "    except Exception as e:\n",
    "        print(e)\n"
   ]
  },
  {
   "cell_type": "code",
   "execution_count": 78,
   "id": "3e61ead8",
   "metadata": {},
   "outputs": [
    {
     "name": "stdout",
     "output_type": "stream",
     "text": [
      "matrix division\n",
      " [[  6.60526316   6.84210526 -10.28947368]\n",
      " [  2.68421053   2.47368421  -2.63157895]\n",
      " [  2.47368421   2.78947368  -4.05263158]]\n"
     ]
    }
   ],
   "source": [
    "#Call matrix_division function using arrays\n",
    "a = np.array([[10, 9, 3],[5, 8, 9],[4, 3, 2]])\n",
    "b = np.array([[1, 5, 1],[2, 1, 10],[1, 3, 7]])\n",
    "print('matrix division\\n', matrix_division(a,b))"
   ]
  },
  {
   "cell_type": "code",
   "execution_count": 79,
   "id": "04b66ca0",
   "metadata": {},
   "outputs": [
    {
     "name": "stdout",
     "output_type": "stream",
     "text": [
      "matrix division for a larger matrix\n",
      " [[  9.14285714  11.07142857 -21.28571429  16.07142857]\n",
      " [  4.71428571   5.85714286 -11.42857143  12.85714286]\n",
      " [  3.28571429   4.14285714  -7.57142857   5.14285714]\n",
      " [  1.35714286   1.92857143  -3.21428571   1.92857143]]\n"
     ]
    }
   ],
   "source": [
    "#Call matrix_division function with larger arrays\n",
    "a = np.array([[10, 9, 3, 4],[5, 8, 9, 1],[4, 3, 2, 2],[2, 1, 2, 1]])\n",
    "b = np.array([[1, 5, 1, 5],[2, 1, 10, 2],[1, 3, 7, 3],[0, 1, 2, 0]])\n",
    "print('matrix division for a larger matrix\\n', matrix_division(a,b))"
   ]
  },
  {
   "cell_type": "code",
   "execution_count": 38,
   "id": "55ef9271",
   "metadata": {},
   "outputs": [
    {
     "name": "stdout",
     "output_type": "stream",
     "text": [
      "determinant is not greater than zero\n"
     ]
    }
   ],
   "source": [
    "#Call matrix_division function to execute else part of if stmt\n",
    "a = np.array([[10, 9, 3],[5, 8, 9],[4, 3, 2]])\n",
    "b = np.array([[0, 0, 0],[0, 0, 0],[0, 0, 0]])\n",
    "matrix_division(a,b)"
   ]
  },
  {
   "cell_type": "code",
   "execution_count": 39,
   "id": "78e8a27b",
   "metadata": {},
   "outputs": [
    {
     "name": "stdout",
     "output_type": "stream",
     "text": [
      "shapes (3,3) and (4,4) not aligned: 3 (dim 1) != 4 (dim 0)\n"
     ]
    }
   ],
   "source": [
    "#Call matrix_division function causing error\n",
    "a = np.array([[10, 9, 3],[5, 8, 9],[4, 3, 2]])\n",
    "b = np.array([[1, 5, 1, 5],[2, 1, 10, 2],[1, 3, 7, 3],[0, 1, 2, 0]])\n",
    "matrix_division(a,b)"
   ]
  },
  {
   "cell_type": "markdown",
   "id": "4659b8d3",
   "metadata": {},
   "source": [
    "## 5. Write a function is_orthogonal(v1,v2, tol), where v1 and v2 are column vectors of the same size and tol is a scalar value strictly larger than 0. The output should be 1 if the angle between v1 and v2 is within tol of π/2; that is, |π/2−θ|<tol, and 0 otherwise.\n",
    "\n",
    "\n",
    "Two vectors are orthoganol if they're perpendicular. The dot product is 0 or the identity matrix.\n"
   ]
  },
  {
   "cell_type": "code",
   "execution_count": 49,
   "id": "1f6f5cfe",
   "metadata": {},
   "outputs": [],
   "source": [
    "# scalar larger than 0\n",
    "# check if angle is within tol of π/2 - in other words |π/2−θ|<tol, return 1, else 0\n",
    "# so subtract angle from pi/2 to see if it is less than the tol value (which is a scalar)\n",
    "def is_orthogonal(v1,v2,tol):\n",
    "    try:\n",
    "\n",
    "        if len(v1) != len(v2):\n",
    "            print('vector lengths must match')\n",
    "            return\n",
    "        \n",
    "        # Convert from column vector to row vector using reshape() function\n",
    "        r1 = v1.reshape(1,-1)\n",
    "        r2 = v2.reshape(1,-1)\n",
    "\n",
    "        #calculate dot product between the vectors\n",
    "        dot_prd1 = np.dot(r1,r2.T) \n",
    "  \n",
    "        # Calculate the mod of the 2 vectors using norm() function\n",
    "        mod_vector = norm(r1) * norm(r2)\n",
    "        if mod_vector == 0:\n",
    "            print('mod of the vectors must be greater than 0')\n",
    "            return\n",
    "        \n",
    "        # Calculate the cosine by dividing dot product by mod\n",
    "        cos_angle = dot_prd1/mod_vector\n",
    "                \n",
    "        # Convert cosine to degrees\n",
    "        deg_angle = math.degrees(math.acos(cos_angle))\n",
    "        #print('degrees',deg_angle)\n",
    "        \n",
    "        # Convert degrees to radians to use when determining if the angle is within tol of π/2\n",
    "        rad_angle = math.radians(deg_angle)\n",
    "        #print('radians',rad_angle)\n",
    "        #print('pi/2',np.pi/2)\n",
    "        #print('tol',tol)\n",
    "        \n",
    "        # Use absolute value in case rad_angle is greater than np.pi/2\n",
    "        if abs(np.pi/2-rad_angle) < tol:\n",
    "            return 1\n",
    "        else:\n",
    "            return 0\n",
    "       \n",
    "    except Exception as e:\n",
    "        print(e)\n"
   ]
  },
  {
   "cell_type": "code",
   "execution_count": 50,
   "id": "5b8342b9",
   "metadata": {},
   "outputs": [
    {
     "name": "stdout",
     "output_type": "stream",
     "text": [
      "Test case #1 - output should be 1: 1\n"
     ]
    }
   ],
   "source": [
    "#Test case #1\n",
    "#output should be 1\n",
    "a = np.array([[1], [0.001]])\n",
    "b = np.array([[0.001], [1]])\n",
    "print('Test case #1 - output should be 1:',is_orthogonal(a,b, 0.01))"
   ]
  },
  {
   "cell_type": "code",
   "execution_count": 52,
   "id": "a83d9f36",
   "metadata": {},
   "outputs": [
    {
     "name": "stdout",
     "output_type": "stream",
     "text": [
      "Test case #2 - output should be 0: 0\n"
     ]
    }
   ],
   "source": [
    "# Test case #2\n",
    "#output should be 0\n",
    "\n",
    "print('Test case #2 - output should be 0:',is_orthogonal(a,b, 0.001))"
   ]
  },
  {
   "cell_type": "code",
   "execution_count": 53,
   "id": "f01b7a8a",
   "metadata": {},
   "outputs": [
    {
     "name": "stdout",
     "output_type": "stream",
     "text": [
      "Test case #3 - output should be 0: 0\n"
     ]
    }
   ],
   "source": [
    "#Test case #3\n",
    "# output should be 0\n",
    "\n",
    "a = np.array([[1], [0.001]])\n",
    "b = np.array([[1], [1]])\n",
    "\n",
    "print('Test case #3 - output should be 0:',is_orthogonal(a,b, 0.01))\n",
    "\n"
   ]
  },
  {
   "cell_type": "code",
   "execution_count": 54,
   "id": "5a0e5611",
   "metadata": {},
   "outputs": [
    {
     "name": "stdout",
     "output_type": "stream",
     "text": [
      "Test case #4 - output should be 1: 1\n"
     ]
    }
   ],
   "source": [
    "#Test case #4\n",
    "# output should be 1\n",
    "\n",
    "a = np.array([[1], [1]])\n",
    "b = np.array([[-1], [1]])\n",
    "\n",
    "print('Test case #4 - output should be 1:',is_orthogonal(a,b, 1e-10))"
   ]
  },
  {
   "cell_type": "markdown",
   "id": "95457a08",
   "metadata": {},
   "source": [
    "## 6. Create a class called vector_calculator. __init__ should take self, vector1, and vector2. It should have two methods inside of it that are from problems 1 and 4 above (angle_between and is_orthogonal). Make sure tol is defaulted but can be overwritten. Make sure you can call angle_between and is_orthogonal through the class and return the correct results as in problems 1 and 4.\n"
   ]
  },
  {
   "cell_type": "code",
   "execution_count": 81,
   "id": "b259ee53",
   "metadata": {},
   "outputs": [],
   "source": [
    "import numpy as np\n",
    "from numpy.linalg import norm\n",
    "import math\n",
    "\n",
    "class vector_calculator:\n",
    "    def __init__(self, vector1, vector2):\n",
    "        self.vector1 = vector1\n",
    "        self.vector2 = vector2\n",
    "    \n",
    "    #add method angle_between\n",
    "    def angle_between(self,v1, v2):  #copied in the function from earlier in the homework\n",
    "        try:\n",
    "\n",
    "            if np.shape(v1) != np.shape(v2):\n",
    "                print('vectors must be same length')\n",
    "                return\n",
    "        \n",
    "            #calculate dot product between the vectors\n",
    "            dot_prd1 = np.dot(v1,v2.T) \n",
    "  \n",
    "            # Calculate the mod of the 2 vectors using norm() function\n",
    "            mod_vector = norm(v1) * norm(v2)\n",
    "            if mod_vector == 0:\n",
    "                print('mod of the vectors must be greater than 0')\n",
    "                return\n",
    "        \n",
    "            # Calculate the cosine by dividing dot product by mod\n",
    "            cos_angle = dot_prd1/mod_vector\n",
    "       \n",
    "            # Calculate the angle in degrees using math.degrees(), math.acos() functions\n",
    "            angle_deg = math.degrees(math.acos(cos_angle))\n",
    "   \n",
    "            return angle_deg\n",
    "        except Exception as e:\n",
    "            print(e)    \n",
    "            \n",
    "    #add method is_orthogonal, with tol defaulted but able to be overwritten\n",
    "    def is_orthogonal(self,v1,v2,tol=.01): #copied in the function from earlier in the homework\n",
    "        try:\n",
    "\n",
    "            if len(v1) != len(v2):\n",
    "                print('vector lengths must match')\n",
    "                return\n",
    "       \n",
    "            r1 = v1.reshape(1,-1)\n",
    "            r2 = v2.reshape(1,-1)\n",
    "        \n",
    "            #calculate dot product between the vectors\n",
    "            dot_prd2 = np.dot(r1,r2.T) \n",
    "  \n",
    "            # Calculate the mod of the 2 vectors using norm() function\n",
    "            mod_vect = norm(r1) * norm(r2)\n",
    "            if mod_vect == 0:\n",
    "                print('mod of the vectors must be greater than 0')\n",
    "                return\n",
    "        \n",
    "            # Calculate the cosine by dividing dot product by mod\n",
    "            cos_ang = dot_prd2/mod_vect\n",
    "                \n",
    "            # Convert cosine to degrees\n",
    "            deg_angle = math.degrees(math.acos(cos_ang))\n",
    "        \n",
    "            # Convert degrees to radians to use when determining if the angle is within tol of π/2\n",
    "            rad_angle = math.radians(deg_angle)\n",
    "                \n",
    "            # Use absolute value in case rad_angle is greater than np.pi/2\n",
    "            if abs(np.pi/2-rad_angle) < tol:\n",
    "                return 1\n",
    "            else:\n",
    "                return 0\n",
    "       \n",
    "        except Exception as e:\n",
    "            print(e)\n"
   ]
  },
  {
   "cell_type": "code",
   "execution_count": 82,
   "id": "e1ccf820",
   "metadata": {},
   "outputs": [
    {
     "name": "stdout",
     "output_type": "stream",
     "text": [
      "angle between 2 arrays:51.71%\n"
     ]
    }
   ],
   "source": [
    "#call angle_between and is_orthogonal through the class and return the correct results as before\n",
    "a=np.array([[10,9,2]])\n",
    "b=np.array([[2,3,6]])\n",
    "\n",
    "#create object to use to call method\n",
    "angle_obj = vector_calculator(a,b)\n",
    "#print(angle_obj.angle_between(angle_obj.vector1, angle_obj.vector2))\n",
    "print('angle between 2 arrays:'\"{:.2%}\".format(angle_obj.angle_between(angle_obj.vector1, angle_obj.vector2)/100))"
   ]
  },
  {
   "cell_type": "code",
   "execution_count": 85,
   "id": "1b38948c",
   "metadata": {},
   "outputs": [
    {
     "name": "stdout",
     "output_type": "stream",
     "text": [
      "Test case #1 - output should be 1: 1\n"
     ]
    }
   ],
   "source": [
    "#Set up to call method is_orthogonal with first group of test data\n",
    "#Test case #1\n",
    "#output should be 1\n",
    "c = np.array([[1], [0.001]])\n",
    "d = np.array([[0.001], [1]])\n",
    "\n",
    "orth_obj = vector_calculator(c,d)\n",
    "\n",
    "print('Test case #1 - output should be 1:',orth_obj.is_orthogonal(orth_obj.vector1, orth_obj.vector2,.01))"
   ]
  },
  {
   "cell_type": "code",
   "execution_count": 88,
   "id": "041f33d4",
   "metadata": {},
   "outputs": [
    {
     "name": "stdout",
     "output_type": "stream",
     "text": [
      "Same test case but without passing tol - output should be 1: 1\n"
     ]
    }
   ],
   "source": [
    "#call method is_orthogonal without specifying tol - default of tol was set to .01\n",
    "\n",
    "print('Same test case but without passing tol - output should be 1:',orth_obj.is_orthogonal(orth_obj.vector1, orth_obj.vector2))"
   ]
  },
  {
   "cell_type": "code",
   "execution_count": 87,
   "id": "f61b9673",
   "metadata": {},
   "outputs": [
    {
     "name": "stdout",
     "output_type": "stream",
     "text": [
      "Test case #2 - output should be 0: 0\n"
     ]
    }
   ],
   "source": [
    "# call method is_orthogonal with second group of test data\n",
    "#output should be 0\n",
    "\n",
    "print('Test case #2 - output should be 0:',orth_obj.is_orthogonal(orth_obj.vector1,orth_obj.vector2, 0.001))"
   ]
  },
  {
   "cell_type": "markdown",
   "id": "15040200",
   "metadata": {},
   "source": [
    "## 7. Show a graphical representation of the breast cancer data outlined in this reading https://www.datacamp.com/community/tutorials/principal-component-analysis-in-python Be sure to describe what PCA is and incorporate the principal components in your plot. This is just exploratory, so there are many correct answers!"
   ]
  },
  {
   "cell_type": "markdown",
   "id": "b2078d9a",
   "metadata": {},
   "source": [
    "PCA stands for Principal Component Analysis. It is a linear dimensionality reduction technique that can be utilized for extracting information from a high-dimensional space by projecting it into a lower-dimensional sub-space. It tries to preserve the essential parts that have more variation of the data and remove the non-essential parts with fewer variation. PCA is a statistical procedure that uses an orthogonal transformation to convert a set of observations of possibly correlated variables (entities each of which takes on various numerical values) into a set of values of linearly uncorrelated variables called principal components."
   ]
  },
  {
   "cell_type": "code",
   "execution_count": 89,
   "id": "a4033bc2",
   "metadata": {},
   "outputs": [
    {
     "name": "stdout",
     "output_type": "stream",
     "text": [
      "   mean radius  mean texture  mean perimeter  mean area  mean smoothness  \\\n",
      "0        17.99         10.38          122.80     1001.0          0.11840   \n",
      "1        20.57         17.77          132.90     1326.0          0.08474   \n",
      "2        19.69         21.25          130.00     1203.0          0.10960   \n",
      "3        11.42         20.38           77.58      386.1          0.14250   \n",
      "4        20.29         14.34          135.10     1297.0          0.10030   \n",
      "\n",
      "   mean compactness  mean concavity  mean concave points  mean symmetry  \\\n",
      "0           0.27760          0.3001              0.14710         0.2419   \n",
      "1           0.07864          0.0869              0.07017         0.1812   \n",
      "2           0.15990          0.1974              0.12790         0.2069   \n",
      "3           0.28390          0.2414              0.10520         0.2597   \n",
      "4           0.13280          0.1980              0.10430         0.1809   \n",
      "\n",
      "   mean fractal dimension  ...  worst radius  worst texture  worst perimeter  \\\n",
      "0                 0.07871  ...         25.38          17.33           184.60   \n",
      "1                 0.05667  ...         24.99          23.41           158.80   \n",
      "2                 0.05999  ...         23.57          25.53           152.50   \n",
      "3                 0.09744  ...         14.91          26.50            98.87   \n",
      "4                 0.05883  ...         22.54          16.67           152.20   \n",
      "\n",
      "   worst area  worst smoothness  worst compactness  worst concavity  \\\n",
      "0      2019.0            0.1622             0.6656           0.7119   \n",
      "1      1956.0            0.1238             0.1866           0.2416   \n",
      "2      1709.0            0.1444             0.4245           0.4504   \n",
      "3       567.7            0.2098             0.8663           0.6869   \n",
      "4      1575.0            0.1374             0.2050           0.4000   \n",
      "\n",
      "   worst concave points  worst symmetry  worst fractal dimension  \n",
      "0                0.2654          0.4601                  0.11890  \n",
      "1                0.1860          0.2750                  0.08902  \n",
      "2                0.2430          0.3613                  0.08758  \n",
      "3                0.2575          0.6638                  0.17300  \n",
      "4                0.1625          0.2364                  0.07678  \n",
      "\n",
      "[5 rows x 30 columns]\n"
     ]
    }
   ],
   "source": [
    "# code was brought in/used from the reading - differences do exist\n",
    "from sklearn.datasets import load_breast_cancer\n",
    "import numpy as np\n",
    "import pandas as pd\n",
    "\n",
    "breast = load_breast_cancer()\n",
    "breast_data = breast.data\n",
    "\n",
    "breast_labels = breast.target\n",
    "\n",
    "labels = np.reshape(breast_labels,(569,1))\n",
    "\n",
    "final_breast_data = np.concatenate([breast_data,labels],axis=1)\n",
    "final_breast_data.shape\n",
    "#print(breast_data.shape)\n",
    "\n",
    "# check the data out\n",
    "X = breast.data\n",
    "y = breast.target\n",
    "b_df = pd.DataFrame(X, columns=breast.feature_names)\n",
    "print(b_df.head())\n"
   ]
  },
  {
   "cell_type": "code",
   "execution_count": 90,
   "id": "e4031b2a",
   "metadata": {},
   "outputs": [
    {
     "data": {
      "text/plain": [
       "Index(['mean radius', 'mean texture', 'mean perimeter', 'mean area',\n",
       "       'mean smoothness', 'mean compactness', 'mean concavity',\n",
       "       'mean concave points', 'mean symmetry', 'mean fractal dimension',\n",
       "       'radius error', 'texture error', 'perimeter error', 'area error',\n",
       "       'smoothness error', 'compactness error', 'concavity error',\n",
       "       'concave points error', 'symmetry error', 'fractal dimension error',\n",
       "       'worst radius', 'worst texture', 'worst perimeter', 'worst area',\n",
       "       'worst smoothness', 'worst compactness', 'worst concavity',\n",
       "       'worst concave points', 'worst symmetry', 'worst fractal dimension',\n",
       "       'label'],\n",
       "      dtype='object')"
      ]
     },
     "execution_count": 90,
     "metadata": {},
     "output_type": "execute_result"
    }
   ],
   "source": [
    "breast_dataset = pd.DataFrame(final_breast_data)\n",
    "features = breast.feature_names\n",
    "\n",
    "# add the features label column to the dataframe\n",
    "features_labels = np.append(features,'label')\n",
    "breast_dataset.columns = features_labels\n",
    "breast_dataset.columns"
   ]
  },
  {
   "cell_type": "code",
   "execution_count": 91,
   "id": "17969500",
   "metadata": {},
   "outputs": [
    {
     "data": {
      "text/html": [
       "<div>\n",
       "<style scoped>\n",
       "    .dataframe tbody tr th:only-of-type {\n",
       "        vertical-align: middle;\n",
       "    }\n",
       "\n",
       "    .dataframe tbody tr th {\n",
       "        vertical-align: top;\n",
       "    }\n",
       "\n",
       "    .dataframe thead th {\n",
       "        text-align: right;\n",
       "    }\n",
       "</style>\n",
       "<table border=\"1\" class=\"dataframe\">\n",
       "  <thead>\n",
       "    <tr style=\"text-align: right;\">\n",
       "      <th></th>\n",
       "      <th>mean radius</th>\n",
       "      <th>mean texture</th>\n",
       "      <th>mean perimeter</th>\n",
       "      <th>mean area</th>\n",
       "      <th>mean smoothness</th>\n",
       "      <th>mean compactness</th>\n",
       "      <th>mean concavity</th>\n",
       "      <th>mean concave points</th>\n",
       "      <th>mean symmetry</th>\n",
       "      <th>mean fractal dimension</th>\n",
       "      <th>...</th>\n",
       "      <th>worst texture</th>\n",
       "      <th>worst perimeter</th>\n",
       "      <th>worst area</th>\n",
       "      <th>worst smoothness</th>\n",
       "      <th>worst compactness</th>\n",
       "      <th>worst concavity</th>\n",
       "      <th>worst concave points</th>\n",
       "      <th>worst symmetry</th>\n",
       "      <th>worst fractal dimension</th>\n",
       "      <th>label</th>\n",
       "    </tr>\n",
       "  </thead>\n",
       "  <tbody>\n",
       "    <tr>\n",
       "      <th>0</th>\n",
       "      <td>17.99</td>\n",
       "      <td>10.38</td>\n",
       "      <td>122.80</td>\n",
       "      <td>1001.0</td>\n",
       "      <td>0.11840</td>\n",
       "      <td>0.27760</td>\n",
       "      <td>0.3001</td>\n",
       "      <td>0.14710</td>\n",
       "      <td>0.2419</td>\n",
       "      <td>0.07871</td>\n",
       "      <td>...</td>\n",
       "      <td>17.33</td>\n",
       "      <td>184.60</td>\n",
       "      <td>2019.0</td>\n",
       "      <td>0.1622</td>\n",
       "      <td>0.6656</td>\n",
       "      <td>0.7119</td>\n",
       "      <td>0.2654</td>\n",
       "      <td>0.4601</td>\n",
       "      <td>0.11890</td>\n",
       "      <td>Benign</td>\n",
       "    </tr>\n",
       "    <tr>\n",
       "      <th>1</th>\n",
       "      <td>20.57</td>\n",
       "      <td>17.77</td>\n",
       "      <td>132.90</td>\n",
       "      <td>1326.0</td>\n",
       "      <td>0.08474</td>\n",
       "      <td>0.07864</td>\n",
       "      <td>0.0869</td>\n",
       "      <td>0.07017</td>\n",
       "      <td>0.1812</td>\n",
       "      <td>0.05667</td>\n",
       "      <td>...</td>\n",
       "      <td>23.41</td>\n",
       "      <td>158.80</td>\n",
       "      <td>1956.0</td>\n",
       "      <td>0.1238</td>\n",
       "      <td>0.1866</td>\n",
       "      <td>0.2416</td>\n",
       "      <td>0.1860</td>\n",
       "      <td>0.2750</td>\n",
       "      <td>0.08902</td>\n",
       "      <td>Benign</td>\n",
       "    </tr>\n",
       "    <tr>\n",
       "      <th>2</th>\n",
       "      <td>19.69</td>\n",
       "      <td>21.25</td>\n",
       "      <td>130.00</td>\n",
       "      <td>1203.0</td>\n",
       "      <td>0.10960</td>\n",
       "      <td>0.15990</td>\n",
       "      <td>0.1974</td>\n",
       "      <td>0.12790</td>\n",
       "      <td>0.2069</td>\n",
       "      <td>0.05999</td>\n",
       "      <td>...</td>\n",
       "      <td>25.53</td>\n",
       "      <td>152.50</td>\n",
       "      <td>1709.0</td>\n",
       "      <td>0.1444</td>\n",
       "      <td>0.4245</td>\n",
       "      <td>0.4504</td>\n",
       "      <td>0.2430</td>\n",
       "      <td>0.3613</td>\n",
       "      <td>0.08758</td>\n",
       "      <td>Benign</td>\n",
       "    </tr>\n",
       "    <tr>\n",
       "      <th>3</th>\n",
       "      <td>11.42</td>\n",
       "      <td>20.38</td>\n",
       "      <td>77.58</td>\n",
       "      <td>386.1</td>\n",
       "      <td>0.14250</td>\n",
       "      <td>0.28390</td>\n",
       "      <td>0.2414</td>\n",
       "      <td>0.10520</td>\n",
       "      <td>0.2597</td>\n",
       "      <td>0.09744</td>\n",
       "      <td>...</td>\n",
       "      <td>26.50</td>\n",
       "      <td>98.87</td>\n",
       "      <td>567.7</td>\n",
       "      <td>0.2098</td>\n",
       "      <td>0.8663</td>\n",
       "      <td>0.6869</td>\n",
       "      <td>0.2575</td>\n",
       "      <td>0.6638</td>\n",
       "      <td>0.17300</td>\n",
       "      <td>Benign</td>\n",
       "    </tr>\n",
       "    <tr>\n",
       "      <th>4</th>\n",
       "      <td>20.29</td>\n",
       "      <td>14.34</td>\n",
       "      <td>135.10</td>\n",
       "      <td>1297.0</td>\n",
       "      <td>0.10030</td>\n",
       "      <td>0.13280</td>\n",
       "      <td>0.1980</td>\n",
       "      <td>0.10430</td>\n",
       "      <td>0.1809</td>\n",
       "      <td>0.05883</td>\n",
       "      <td>...</td>\n",
       "      <td>16.67</td>\n",
       "      <td>152.20</td>\n",
       "      <td>1575.0</td>\n",
       "      <td>0.1374</td>\n",
       "      <td>0.2050</td>\n",
       "      <td>0.4000</td>\n",
       "      <td>0.1625</td>\n",
       "      <td>0.2364</td>\n",
       "      <td>0.07678</td>\n",
       "      <td>Benign</td>\n",
       "    </tr>\n",
       "  </tbody>\n",
       "</table>\n",
       "<p>5 rows × 31 columns</p>\n",
       "</div>"
      ],
      "text/plain": [
       "   mean radius  mean texture  mean perimeter  mean area  mean smoothness  \\\n",
       "0        17.99         10.38          122.80     1001.0          0.11840   \n",
       "1        20.57         17.77          132.90     1326.0          0.08474   \n",
       "2        19.69         21.25          130.00     1203.0          0.10960   \n",
       "3        11.42         20.38           77.58      386.1          0.14250   \n",
       "4        20.29         14.34          135.10     1297.0          0.10030   \n",
       "\n",
       "   mean compactness  mean concavity  mean concave points  mean symmetry  \\\n",
       "0           0.27760          0.3001              0.14710         0.2419   \n",
       "1           0.07864          0.0869              0.07017         0.1812   \n",
       "2           0.15990          0.1974              0.12790         0.2069   \n",
       "3           0.28390          0.2414              0.10520         0.2597   \n",
       "4           0.13280          0.1980              0.10430         0.1809   \n",
       "\n",
       "   mean fractal dimension  ...  worst texture  worst perimeter  worst area  \\\n",
       "0                 0.07871  ...          17.33           184.60      2019.0   \n",
       "1                 0.05667  ...          23.41           158.80      1956.0   \n",
       "2                 0.05999  ...          25.53           152.50      1709.0   \n",
       "3                 0.09744  ...          26.50            98.87       567.7   \n",
       "4                 0.05883  ...          16.67           152.20      1575.0   \n",
       "\n",
       "   worst smoothness  worst compactness  worst concavity  worst concave points  \\\n",
       "0            0.1622             0.6656           0.7119                0.2654   \n",
       "1            0.1238             0.1866           0.2416                0.1860   \n",
       "2            0.1444             0.4245           0.4504                0.2430   \n",
       "3            0.2098             0.8663           0.6869                0.2575   \n",
       "4            0.1374             0.2050           0.4000                0.1625   \n",
       "\n",
       "   worst symmetry  worst fractal dimension   label  \n",
       "0          0.4601                  0.11890  Benign  \n",
       "1          0.2750                  0.08902  Benign  \n",
       "2          0.3613                  0.08758  Benign  \n",
       "3          0.6638                  0.17300  Benign  \n",
       "4          0.2364                  0.07678  Benign  \n",
       "\n",
       "[5 rows x 31 columns]"
      ]
     },
     "execution_count": 91,
     "metadata": {},
     "output_type": "execute_result"
    }
   ],
   "source": [
    "# replace the value in label column with either Benign or Malignant depending on the value\n",
    "breast_dataset['label'].replace(0, 'Benign',inplace=True)\n",
    "breast_dataset['label'].replace(1, 'Malignant',inplace=True)\n",
    "breast_dataset.head()\n"
   ]
  },
  {
   "cell_type": "code",
   "execution_count": 92,
   "id": "95ce59bd",
   "metadata": {},
   "outputs": [
    {
     "data": {
      "text/plain": [
       "(569, 30)"
      ]
     },
     "execution_count": 92,
     "metadata": {},
     "output_type": "execute_result"
    }
   ],
   "source": [
    "#import matplotlib.pyplot as plt\n",
    "#%matplotlib inline\n",
    "\n",
    "# normalize the features\n",
    "from sklearn.preprocessing import StandardScaler\n",
    "z = breast_dataset.loc[:, features].values\n",
    "z = StandardScaler().fit_transform(z) # normalizing the features\n",
    "z.shape"
   ]
  },
  {
   "cell_type": "code",
   "execution_count": 93,
   "id": "b1f1accb",
   "metadata": {},
   "outputs": [
    {
     "data": {
      "text/html": [
       "<div>\n",
       "<style scoped>\n",
       "    .dataframe tbody tr th:only-of-type {\n",
       "        vertical-align: middle;\n",
       "    }\n",
       "\n",
       "    .dataframe tbody tr th {\n",
       "        vertical-align: top;\n",
       "    }\n",
       "\n",
       "    .dataframe thead th {\n",
       "        text-align: right;\n",
       "    }\n",
       "</style>\n",
       "<table border=\"1\" class=\"dataframe\">\n",
       "  <thead>\n",
       "    <tr style=\"text-align: right;\">\n",
       "      <th></th>\n",
       "      <th>feature0</th>\n",
       "      <th>feature1</th>\n",
       "      <th>feature2</th>\n",
       "      <th>feature3</th>\n",
       "      <th>feature4</th>\n",
       "      <th>feature5</th>\n",
       "      <th>feature6</th>\n",
       "      <th>feature7</th>\n",
       "      <th>feature8</th>\n",
       "      <th>feature9</th>\n",
       "      <th>...</th>\n",
       "      <th>feature20</th>\n",
       "      <th>feature21</th>\n",
       "      <th>feature22</th>\n",
       "      <th>feature23</th>\n",
       "      <th>feature24</th>\n",
       "      <th>feature25</th>\n",
       "      <th>feature26</th>\n",
       "      <th>feature27</th>\n",
       "      <th>feature28</th>\n",
       "      <th>feature29</th>\n",
       "    </tr>\n",
       "  </thead>\n",
       "  <tbody>\n",
       "    <tr>\n",
       "      <th>0</th>\n",
       "      <td>1.097064</td>\n",
       "      <td>-2.073335</td>\n",
       "      <td>1.269934</td>\n",
       "      <td>0.984375</td>\n",
       "      <td>1.568466</td>\n",
       "      <td>3.283515</td>\n",
       "      <td>2.652874</td>\n",
       "      <td>2.532475</td>\n",
       "      <td>2.217515</td>\n",
       "      <td>2.255747</td>\n",
       "      <td>...</td>\n",
       "      <td>1.886690</td>\n",
       "      <td>-1.359293</td>\n",
       "      <td>2.303601</td>\n",
       "      <td>2.001237</td>\n",
       "      <td>1.307686</td>\n",
       "      <td>2.616665</td>\n",
       "      <td>2.109526</td>\n",
       "      <td>2.296076</td>\n",
       "      <td>2.750622</td>\n",
       "      <td>1.937015</td>\n",
       "    </tr>\n",
       "    <tr>\n",
       "      <th>1</th>\n",
       "      <td>1.829821</td>\n",
       "      <td>-0.353632</td>\n",
       "      <td>1.685955</td>\n",
       "      <td>1.908708</td>\n",
       "      <td>-0.826962</td>\n",
       "      <td>-0.487072</td>\n",
       "      <td>-0.023846</td>\n",
       "      <td>0.548144</td>\n",
       "      <td>0.001392</td>\n",
       "      <td>-0.868652</td>\n",
       "      <td>...</td>\n",
       "      <td>1.805927</td>\n",
       "      <td>-0.369203</td>\n",
       "      <td>1.535126</td>\n",
       "      <td>1.890489</td>\n",
       "      <td>-0.375612</td>\n",
       "      <td>-0.430444</td>\n",
       "      <td>-0.146749</td>\n",
       "      <td>1.087084</td>\n",
       "      <td>-0.243890</td>\n",
       "      <td>0.281190</td>\n",
       "    </tr>\n",
       "    <tr>\n",
       "      <th>2</th>\n",
       "      <td>1.579888</td>\n",
       "      <td>0.456187</td>\n",
       "      <td>1.566503</td>\n",
       "      <td>1.558884</td>\n",
       "      <td>0.942210</td>\n",
       "      <td>1.052926</td>\n",
       "      <td>1.363478</td>\n",
       "      <td>2.037231</td>\n",
       "      <td>0.939685</td>\n",
       "      <td>-0.398008</td>\n",
       "      <td>...</td>\n",
       "      <td>1.511870</td>\n",
       "      <td>-0.023974</td>\n",
       "      <td>1.347475</td>\n",
       "      <td>1.456285</td>\n",
       "      <td>0.527407</td>\n",
       "      <td>1.082932</td>\n",
       "      <td>0.854974</td>\n",
       "      <td>1.955000</td>\n",
       "      <td>1.152255</td>\n",
       "      <td>0.201391</td>\n",
       "    </tr>\n",
       "    <tr>\n",
       "      <th>3</th>\n",
       "      <td>-0.768909</td>\n",
       "      <td>0.253732</td>\n",
       "      <td>-0.592687</td>\n",
       "      <td>-0.764464</td>\n",
       "      <td>3.283553</td>\n",
       "      <td>3.402909</td>\n",
       "      <td>1.915897</td>\n",
       "      <td>1.451707</td>\n",
       "      <td>2.867383</td>\n",
       "      <td>4.910919</td>\n",
       "      <td>...</td>\n",
       "      <td>-0.281464</td>\n",
       "      <td>0.133984</td>\n",
       "      <td>-0.249939</td>\n",
       "      <td>-0.550021</td>\n",
       "      <td>3.394275</td>\n",
       "      <td>3.893397</td>\n",
       "      <td>1.989588</td>\n",
       "      <td>2.175786</td>\n",
       "      <td>6.046041</td>\n",
       "      <td>4.935010</td>\n",
       "    </tr>\n",
       "    <tr>\n",
       "      <th>4</th>\n",
       "      <td>1.750297</td>\n",
       "      <td>-1.151816</td>\n",
       "      <td>1.776573</td>\n",
       "      <td>1.826229</td>\n",
       "      <td>0.280372</td>\n",
       "      <td>0.539340</td>\n",
       "      <td>1.371011</td>\n",
       "      <td>1.428493</td>\n",
       "      <td>-0.009560</td>\n",
       "      <td>-0.562450</td>\n",
       "      <td>...</td>\n",
       "      <td>1.298575</td>\n",
       "      <td>-1.466770</td>\n",
       "      <td>1.338539</td>\n",
       "      <td>1.220724</td>\n",
       "      <td>0.220556</td>\n",
       "      <td>-0.313395</td>\n",
       "      <td>0.613179</td>\n",
       "      <td>0.729259</td>\n",
       "      <td>-0.868353</td>\n",
       "      <td>-0.397100</td>\n",
       "    </tr>\n",
       "  </tbody>\n",
       "</table>\n",
       "<p>5 rows × 30 columns</p>\n",
       "</div>"
      ],
      "text/plain": [
       "   feature0  feature1  feature2  feature3  feature4  feature5  feature6  \\\n",
       "0  1.097064 -2.073335  1.269934  0.984375  1.568466  3.283515  2.652874   \n",
       "1  1.829821 -0.353632  1.685955  1.908708 -0.826962 -0.487072 -0.023846   \n",
       "2  1.579888  0.456187  1.566503  1.558884  0.942210  1.052926  1.363478   \n",
       "3 -0.768909  0.253732 -0.592687 -0.764464  3.283553  3.402909  1.915897   \n",
       "4  1.750297 -1.151816  1.776573  1.826229  0.280372  0.539340  1.371011   \n",
       "\n",
       "   feature7  feature8  feature9  ...  feature20  feature21  feature22  \\\n",
       "0  2.532475  2.217515  2.255747  ...   1.886690  -1.359293   2.303601   \n",
       "1  0.548144  0.001392 -0.868652  ...   1.805927  -0.369203   1.535126   \n",
       "2  2.037231  0.939685 -0.398008  ...   1.511870  -0.023974   1.347475   \n",
       "3  1.451707  2.867383  4.910919  ...  -0.281464   0.133984  -0.249939   \n",
       "4  1.428493 -0.009560 -0.562450  ...   1.298575  -1.466770   1.338539   \n",
       "\n",
       "   feature23  feature24  feature25  feature26  feature27  feature28  feature29  \n",
       "0   2.001237   1.307686   2.616665   2.109526   2.296076   2.750622   1.937015  \n",
       "1   1.890489  -0.375612  -0.430444  -0.146749   1.087084  -0.243890   0.281190  \n",
       "2   1.456285   0.527407   1.082932   0.854974   1.955000   1.152255   0.201391  \n",
       "3  -0.550021   3.394275   3.893397   1.989588   2.175786   6.046041   4.935010  \n",
       "4   1.220724   0.220556  -0.313395   0.613179   0.729259  -0.868353  -0.397100  \n",
       "\n",
       "[5 rows x 30 columns]"
      ]
     },
     "execution_count": 93,
     "metadata": {},
     "output_type": "execute_result"
    }
   ],
   "source": [
    "feat_cols = ['feature'+str(i) for i in range(z.shape[1])]\n",
    "normalised_breast = pd.DataFrame(z,columns=feat_cols)\n",
    "normalised_breast.head()"
   ]
  },
  {
   "cell_type": "code",
   "execution_count": 94,
   "id": "a7a84fbd",
   "metadata": {},
   "outputs": [
    {
     "data": {
      "text/html": [
       "<div>\n",
       "<style scoped>\n",
       "    .dataframe tbody tr th:only-of-type {\n",
       "        vertical-align: middle;\n",
       "    }\n",
       "\n",
       "    .dataframe tbody tr th {\n",
       "        vertical-align: top;\n",
       "    }\n",
       "\n",
       "    .dataframe thead th {\n",
       "        text-align: right;\n",
       "    }\n",
       "</style>\n",
       "<table border=\"1\" class=\"dataframe\">\n",
       "  <thead>\n",
       "    <tr style=\"text-align: right;\">\n",
       "      <th></th>\n",
       "      <th>principal component 1</th>\n",
       "      <th>principal component 2</th>\n",
       "      <th>principal component 3</th>\n",
       "    </tr>\n",
       "  </thead>\n",
       "  <tbody>\n",
       "    <tr>\n",
       "      <th>0</th>\n",
       "      <td>9.192837</td>\n",
       "      <td>1.948582</td>\n",
       "      <td>-1.123145</td>\n",
       "    </tr>\n",
       "    <tr>\n",
       "      <th>1</th>\n",
       "      <td>2.387802</td>\n",
       "      <td>-3.768172</td>\n",
       "      <td>-0.529279</td>\n",
       "    </tr>\n",
       "    <tr>\n",
       "      <th>2</th>\n",
       "      <td>5.733896</td>\n",
       "      <td>-1.075174</td>\n",
       "      <td>-0.551749</td>\n",
       "    </tr>\n",
       "    <tr>\n",
       "      <th>3</th>\n",
       "      <td>7.122953</td>\n",
       "      <td>10.275589</td>\n",
       "      <td>-3.232775</td>\n",
       "    </tr>\n",
       "    <tr>\n",
       "      <th>4</th>\n",
       "      <td>3.935302</td>\n",
       "      <td>-1.948072</td>\n",
       "      <td>1.389776</td>\n",
       "    </tr>\n",
       "  </tbody>\n",
       "</table>\n",
       "</div>"
      ],
      "text/plain": [
       "   principal component 1  principal component 2  principal component 3\n",
       "0               9.192837               1.948582              -1.123145\n",
       "1               2.387802              -3.768172              -0.529279\n",
       "2               5.733896              -1.075174              -0.551749\n",
       "3               7.122953              10.275589              -3.232775\n",
       "4               3.935302              -1.948072               1.389776"
      ]
     },
     "execution_count": 94,
     "metadata": {},
     "output_type": "execute_result"
    }
   ],
   "source": [
    "# changed the code to include 3 principal components\n",
    "from sklearn.decomposition import PCA\n",
    "pca_breast = PCA(n_components=3)\n",
    "principalComponents_breast = pca_breast.fit_transform(z)\n",
    "\n",
    "principal_breast_Df = pd.DataFrame(data = principalComponents_breast\n",
    "             , columns = ['principal component 1', 'principal component 2', 'principal component 3'])\n",
    "principal_breast_Df.head()"
   ]
  },
  {
   "cell_type": "code",
   "execution_count": 95,
   "id": "5b7ae43e",
   "metadata": {},
   "outputs": [
    {
     "data": {
      "image/png": "[encoded data removed]",
      "text/plain": [
       "<Figure size 720x720 with 1 Axes>"
      ]
     },
     "metadata": {
      "needs_background": "light"
     },
     "output_type": "display_data"
    }
   ],
   "source": [
    "#plt.figure()\n",
    "plt.figure(figsize=(10,10))\n",
    "plt.xticks(fontsize=12)\n",
    "plt.yticks(fontsize=14)\n",
    "plt.xlabel('Principal Component - 1',fontsize=20)\n",
    "plt.ylabel('Principal Component - 2',fontsize=20)\n",
    "plt.title(\"Principal Component Analysis of Breast Cancer Dataset\",fontsize=20)\n",
    "targets = ['Benign', 'Malignant']\n",
    "colors = ['r', 'g']\n",
    "for target, color in zip(targets,colors):\n",
    "    indicesToKeep = breast_dataset['label'] == target\n",
    "    plt.scatter(principal_breast_Df.loc[indicesToKeep, 'principal component 1']\n",
    "               , principal_breast_Df.loc[indicesToKeep, 'principal component 2'], c = color, s = 50)\n",
    "\n",
    "plt.legend(targets,prop={'size': 15})\n",
    "plt.show()\n"
   ]
  },
  {
   "cell_type": "code",
   "execution_count": 96,
   "id": "fbef0dc1",
   "metadata": {},
   "outputs": [
    {
     "data": {
      "image/png": "[encoded data removed]",
      "text/plain": [
       "<Figure size 576x576 with 9 Axes>"
      ]
     },
     "metadata": {
      "needs_background": "light"
     },
     "output_type": "display_data"
    }
   ],
   "source": [
    "#scatter plot to show the principal components in relation to each other\n",
    "pd.plotting.scatter_matrix(principal_breast_Df, c=color, figsize=[8,8])\n",
    "plt.suptitle(\"Principal Component Analysis of Breast Cancer Dataset\")\n",
    "plt.show()"
   ]
  },
  {
   "cell_type": "code",
   "execution_count": 97,
   "id": "89a20b60",
   "metadata": {},
   "outputs": [
    {
     "data": {
      "application/vnd.plotly.v1+json": {
       "config": {
        "plotlyServerURL": "https://plot.ly"
       },
       "data": [
        {
         "legendgrouptitle": {
          "text": "Type"
         },
         "line": {
          "width": 0.02
         },
         "marker": {
          "color": "red",
          "opacity": 1,
          "reversescale": true,
          "size": 5
         },
         "mode": "markers",
         "name": "Benign",
         "type": "scatter3d",
         "x": [
          9.19283683445156,
          2.387801800839782,
          5.733896277679267,
          7.122953203590989,
          3.935302076029647,
          2.3802471495246595,
          2.238883309281337,
          2.1432985031074936,
          3.174924292094304,
          6.351746786150607,
          -0.8104137697036866,
          2.6511004753057588,
          8.18503446481558,
          0.34212591507743295,
          4.34237919352402,
          4.075656169964226,
          0.23005501685075994,
          4.418010921661382,
          4.948703552144279,
          4.733210793756591,
          4.208524209621831,
          4.949632074858214,
          7.098562861004886,
          3.510262609658667,
          3.064053887482616,
          4.007264142986408,
          1.7153097264089887,
          6.059445509888413,
          2.9022361080842654,
          4.554782683088856,
          4.990602722107256,
          2.9853407894228488,
          2.7663691554494516,
          1.296198761293145,
          -0.9980689011161227,
          0.7652641160950938,
          -2.1509534707650446,
          -0.09333139026163642,
          9.087999672729355,
          0.9904537676266854,
          -0.2935465511324424,
          5.380940403074321,
          1.7000068856802837,
          3.30255094258339,
          -0.6746192857472636,
          4.648738874058783,
          2.176862881446353,
          4.759112153262021,
          1.6916079208106556,
          1.8123054033152093,
          2.7045961754620844,
          5.503705307348559,
          -0.361709191068397,
          1.4281675942508132,
          6.230896510694338,
          11.66871465645007,
          10.769242826210137,
          5.034811080108444,
          3.2882353871420404,
          0.6076079440339731,
          3.583563626651425,
          0.2524975741356456,
          2.775865570877318,
          4.396227951949702,
          0.6162808716416793,
          -0.43286022181076916,
          3.2139167614325683,
          13.056121853600278,
          3.110527692473697,
          4.956725569780408,
          0.8510142601945657,
          3.3341331986184417,
          12.894612120872361,
          -0.638880500003556,
          1.9191334190233102,
          4.643691314804809,
          1.4320694222372807,
          1.3526270221346501,
          2.1714160176593706,
          -1.9768403545318882,
          3.7820264567320447,
          1.3450204393480547,
          2.3999978489892633,
          4.100787720905011,
          3.38733076919593,
          6.149886190072177,
          5.494152803252212,
          1.2136346121665529,
          5.069661080146375,
          -0.9474878920486054,
          2.8193683433204058,
          2.9563018682934388,
          9.512669846679794,
          9.00716553311267,
          0.7588784809274353,
          -0.39001897966422266,
          0.3648761524736569,
          6.523116602008455,
          1.7796614876405001,
          2.611484895742976,
          2.4984388808524383,
          1.277027169392738,
          3.4731973420474156,
          1.2566751154947706,
          1.64946069643171,
          9.03658948121921,
          4.554590062160736,
          -0.22309260657457425,
          0.446544392860244,
          4.8089692471547645,
          12.285019749257923,
          3.372196592106727,
          2.5087663152294564,
          1.318068478836436,
          4.943581013408948,
          4.2980773290385015,
          1.8032470185000617,
          2.7555680017131934,
          3.2572546738020756,
          3.3163241136639403,
          8.403847122524175,
          2.6475686318788925,
          3.3502957900559096,
          3.7955656425355135,
          7.14384203557764,
          7.085010648025806,
          1.314099002513824,
          3.711649513851783,
          0.46047908635019524,
          6.39264992247275,
          5.255544948169183,
          8.733861520912695,
          3.6913178786249428,
          3.3782508698130798,
          -0.8402096563550565,
          3.284372613105943,
          -1.9087689285696663,
          1.61478192329846,
          6.619726348867272,
          7.67614947313945,
          0.3373454908233004,
          0.01743079070831195,
          4.9602681178934525,
          3.785060105322252,
          2.637255777768317,
          -2.3858827564793095,
          6.590235943000928,
          7.182933108780278,
          1.895316274923372,
          1.834840468694893,
          7.236485319755882,
          2.250510371688846,
          2.1078012193674467,
          1.785949980709918,
          3.3196739706063965,
          4.680166265592761,
          7.353218572368283,
          4.975162359550603,
          6.182283740671338,
          10.934298161156152,
          2.118496933373181,
          2.735011775020615,
          6.227025992791225,
          5.307140021250299,
          7.248001063804662,
          4.207220619248764,
          3.635014949231626,
          3.5192482756129526,
          3.765932154289207,
          -0.5429013641010668,
          4.7035007369871265,
          4.149097343626504,
          7.672141552553786,
          6.2896734662973515,
          2.76337078640813,
          -0.9340908135105819,
          6.003616593287481,
          4.949858464491718,
          4.54911114622615,
          4.442342816995024,
          0.6644409159356963,
          2.4723569140949073,
          0.981727543351355,
          3.2454136483202665,
          4.331653347588737,
          2.511753100860538,
          3.475493749391746,
          16.3192332268134,
          5.930964861521807,
          3.8244330429258926,
          4.754614869090233,
          -0.7417817668986404,
          3.103519704889814,
          3.7157051067891897,
          5.094841844824172,
          2.79039982748406,
          7.259178845482547,
          4.094142557105964,
          2.2269944947994254,
          -0.7337724520471466,
          2.697223751655152,
          3.3790146676064072,
          8.630755867564408,
          4.028435260120545,
          5.1654109516886155,
          0.5359319447070527,
          5.917612589574223,
          8.741338083513938,
          6.4393154838635835,
          3.793382370280683,
          1.2561792742008646,
          10.374794057425527
         ],
         "y": [
          1.9485823781120453,
          -3.768172237109186,
          -1.0751737975478275,
          10.275588616832195,
          -1.9480719289381532,
          3.9499289278506495,
          -2.690031412895097,
          2.340243850381967,
          3.391813026378776,
          7.727174080252982,
          -2.6592755496166585,
          0.06656813418248245,
          2.7009760410650876,
          -0.9682794212113872,
          4.861083245200866,
          2.9770615969996586,
          -1.5647578563922855,
          1.418669858503072,
          -4.114333661656455,
          3.3049632202682675,
          -5.128366362481839,
          -1.5437522107685406,
          2.0186095027975948,
          2.1716243921381775,
          -1.8765525762051989,
          0.5372422722530064,
          -1.5237049625898893,
          -0.7571772756965532,
          4.005295292073752,
          0.33753651370630217,
          -1.1325887736400804,
          0.7584231785661644,
          -0.3543557139460422,
          0.9131964918455087,
          -3.3512929242856835,
          0.8862435699516954,
          -1.923991616409418,
          2.2607522822831037,
          2.018673657999243,
          0.9849298531698127,
          -0.13709915984083051,
          -0.1348767035193292,
          2.3522716475294176,
          -1.1309371345327857,
          -2.1164097309304424,
          -2.3103325033420434,
          0.9721160337363353,
          3.011680584186276,
          1.540676681106517,
          0.7227403339266061,
          -4.437141973092407,
          0.9383261418002584,
          0.11973890049969599,
          -1.9671016223862092,
          0.9200696433048394,
          4.748616689496269,
          -2.2579834874798026,
          0.7744094045645421,
          -1.6682373220431512,
          0.16221461060878217,
          -2.206662048696806,
          -0.5313522399033408,
          0.5580002176097155,
          -2.1235074192499157,
          0.6389114460646836,
          -1.3920442625494835,
          4.046756273964234,
          0.9815139248869328,
          1.569389531917097,
          2.3848461185264624,
          -2.3067352564396573,
          -1.3255574643131187,
          2.3166237559015355,
          -0.9113659166893976,
          -3.538081977500772,
          -1.4820170573977987,
          -1.0496037077194633,
          -1.1541410254286797,
          -2.8262605624981676,
          -0.4193875236732603,
          0.8603813202975018,
          -1.2747710428933527,
          4.8379881920317445,
          -0.37880329366084786,
          -2.91103777154713,
          -2.017652847324179,
          -4.165829764613045,
          -2.039039060093477,
          -1.7851523357334875,
          -1.6847535263452278,
          1.265102997503681,
          0.7064216108813172,
          -5.603484338936814,
          0.5810305128459006,
          -1.608532141601623,
          -0.9892424033628946,
          -3.57446121794422,
          8.011171648934614,
          2.7765872555037348,
          1.5614215179679123,
          2.2784825829425883,
          -2.443258353658727,
          -2.2778486719772313,
          0.3823929970951711,
          -2.102291211411457,
          -0.6551730003682049,
          3.0866395963800497,
          -0.7018215236977324,
          -2.787707505045001,
          -3.0291032211463804,
          -7.543409705725375,
          2.587825561686553,
          2.61464798271356,
          2.1544793452543276,
          -2.84832433511821,
          -4.666274795161494,
          0.16646117757185025,
          3.4657733540251914,
          -0.12520078039336474,
          -3.9391522266923795,
          -4.153905367088075,
          -3.951172728622748,
          -2.15457008051601,
          -1.0262326642328399,
          -2.0748420475630516,
          0.528223066733479,
          -1.7754258892774877,
          -2.8074769859340734,
          0.39416672512374235,
          -1.8230943294062951,
          3.894530837969127,
          3.279875795838522,
          1.0656460701156765,
          -3.3712275500921085,
          -3.500084610335382,
          -0.9906725927962371,
          -3.1219456623238746,
          -2.4745732105486367,
          -6.00327614864286,
          -3.075306139695705,
          -3.1443732536738622,
          -3.4593432755111473,
          -1.3411230752999108,
          -1.9019075350242298,
          0.5771548557977563,
          -0.8241158226532115,
          -1.484862369667899,
          0.05514562135309915,
          -2.392237960904971,
          -4.321523154627429,
          -0.03570231735964194,
          -0.3485356711499713,
          1.121974604389019,
          -0.2692217733817881,
          -1.577052875862479,
          -0.968593001627599,
          -5.242622919162381,
          -1.3325724139307593,
          5.108005439375876,
          -3.7032541779947783,
          0.2966287933817395,
          -3.945168382709708,
          -1.3901100755038398,
          -6.7234146659980265,
          -3.65546949878541,
          1.1762427207065524,
          -1.9564412738523407,
          -3.8586071613797004,
          5.9852952738261385,
          -1.317068164717271,
          -0.1959563054254501,
          0.7674886757682119,
          -0.8604841931888931,
          2.036547554544261,
          -1.0786335638972802,
          -2.1059453067355136,
          -0.09102946040903892,
          3.0060635752251166,
          -0.8160006267836193,
          -0.9924386698920606,
          0.4368606318526442,
          -1.4998245224127347,
          -2.2104300859981785,
          -1.778358702983649,
          -4.0493327280836535,
          -2.528807458291921,
          -1.672884467478351,
          -7.775852177516325,
          1.2282963343832056,
          2.3052362644438613,
          -1.4894234810545195,
          -2.452034737670515,
          -1.2361532559768518,
          -1.058686487535054,
          -2.0192079600559056,
          3.3855608704826863,
          -5.495735917782722,
          2.8029272577449613,
          1.9416340933649434,
          -1.9436970946883785,
          -1.9437097010715951,
          -2.3334288713929316,
          -3.459452539828591,
          -2.941430013249662,
          -2.382203572457166,
          0.3807154666364492,
          3.482636269669172,
          -0.5738554155531831,
          -3.576817700761655,
          -3.584047822335159,
          -1.9022965285434306,
          1.6720102514580975
         ],
         "z": [
          -1.123144878693908,
          -0.5292785800872306,
          -0.5517485388903789,
          -3.2327745449208747,
          1.3897763506402605,
          -2.934878062546806,
          -1.6399089823570305,
          -0.8719422808805197,
          -3.1199880848964248,
          -4.341918600280616,
          -0.48882814508252304,
          -1.5264611723694583,
          5.730244915426315,
          1.7171759398196083,
          -2.816114582002645,
          -3.125287222579705,
          -0.802515344866378,
          -2.2703046751300513,
          -0.3147447559834511,
          -1.4665215437115704,
          -0.7524051430592856,
          -1.7131948254587444,
          -0.028986268709301134,
          -3.894526291954582,
          2.5817537577983454,
          -2.761628339289664,
          0.14618562012125288,
          -0.3492453249389753,
          -3.0014559014900115,
          -0.7543121504661126,
          -2.5773877073129516,
          -3.493760217347886,
          -1.8969697006829391,
          -1.5757759012324735,
          4.305573289523273,
          -2.7049087608006657,
          -1.180484123679316,
          -1.9047348483993283,
          2.1412110390022665,
          -2.3107284811243662,
          -3.3019303446034662,
          -1.6788509797762028,
          -3.0780863505412106,
          0.8263721442030173,
          -1.3962194778750956,
          -0.7288094803695446,
          -1.9438885850995247,
          -0.16624254224513677,
          -1.799849189818863,
          -1.466253717325502,
          0.3073519544490004,
          -2.210153099414268,
          -2.0409505067022278,
          1.1119447851449762,
          0.08982439069584593,
          2.0058956251270863,
          0.03885364375302598,
          2.6823296683054436,
          0.146939174609116,
          1.6373722152577177,
          -1.7045304356874762,
          0.5893477908340687,
          -0.6057625414481655,
          0.5795014420318028,
          -0.1999126349509674,
          -0.08272072216310869,
          -2.715387879153824,
          0.5987937743095472,
          -2.613935768043873,
          -1.935104891591807,
          0.5674578539555579,
          0.7280164741368417,
          6.328659388351909,
          -2.1427267998359576,
          1.254913207359143,
          -1.1706842080542696,
          -1.2620192198634779,
          -1.209805541977408,
          -0.5621117929743384,
          -0.38057302089273815,
          3.6710081135712396,
          0.5558464511407077,
          -1.0281390332926295,
          1.4463022319032974,
          3.007256045218478,
          -1.566141254150176,
          -0.6012473288353872,
          0.9806987259217592,
          1.1736467264950599,
          -0.3511867467468559,
          -2.1531410906783464,
          -1.042329078362501,
          -0.6372345937114812,
          -3.1346982077444228,
          -1.5151079822441718,
          -2.585167602901127,
          -2.223978409075014,
          -0.3264816681962989,
          -0.9427657495710643,
          -0.21818078863648976,
          1.3194865578138883,
          2.466299376802383,
          -1.238690123072019,
          -3.8383122772715366,
          -0.9752677790565244,
          0.22128446455050468,
          -2.270415886400103,
          -2.270761252499587,
          0.44437475659932263,
          2.7440259358349177,
          10.112406161362308,
          7.0920719160543,
          0.20639403200463755,
          -1.7866278007311243,
          0.9138753813855739,
          -0.0068502556778246414,
          -2.6286060113368435,
          -2.474044575378034,
          -2.89609021668783,
          -0.20545455538315227,
          0.046987897487617836,
          1.3718752276420532,
          -1.10894253931958,
          0.8986364876409015,
          1.0883810561148386,
          -1.2799850897708187,
          -1.6726309398744676,
          -1.7561970915707465,
          -1.0047111345099082,
          0.479854985925634,
          -0.8338505100474651,
          2.9037468453728144,
          -3.5155900011839356,
          -1.7667874592835358,
          0.18247211863324117,
          2.5543685765012847,
          -1.0630597784993416,
          -1.9911389740703047,
          0.9893726337434199,
          1.481956371340224,
          -0.11572749035695502,
          0.306919793151534,
          -1.4570526248224698,
          -1.7442377459185257,
          -1.9946962101412993,
          1.983970499026873,
          0.3613377513936252,
          2.0129315889769472,
          -1.6764929925113687,
          0.316690571959706,
          -2.841051521031658,
          -1.0647585227495868,
          1.7751380650468365,
          -1.7225117164753345,
          1.3607289138586929,
          -0.291269553842199,
          0.3169491412378335,
          0.8709837700179291,
          0.5211404503015618,
          -0.8916900317562191,
          0.8674926567469358,
          -0.017164163230411686,
          2.734248608268953,
          1.4856569484138853,
          -0.15569159246865857,
          -1.5900142460362185,
          -0.8287653234959961,
          -1.02252757040038,
          -4.880359182804572,
          0.995760685305632,
          3.7570483874012743,
          -0.8879698585057626,
          -2.1536491354364564,
          -3.182087637554692,
          -1.1796225543287469,
          1.4329084862849601,
          1.7112085475765595,
          -1.7540567428297498,
          -0.5187524870586256,
          1.4423129594507358,
          -2.6807758938964676,
          0.5914465102433901,
          -1.6999152842892424,
          -1.793152317528242,
          -0.19249641597698694,
          0.7981984168293934,
          0.8568293099861484,
          6.235397714043824,
          1.7215972036192304,
          0.0275474656152679,
          -1.2537537189481944,
          -1.9977156749251512,
          1.2873565936411475,
          0.5219616031102783,
          -0.7093662358088209,
          -0.7530798085456647,
          1.9109330638054152,
          -0.5074336769316218,
          -2.285584716478415,
          -0.27523814965315496,
          -0.9605717098444073,
          -1.2019341681095868,
          -0.1790376589732301,
          1.6594828248118778,
          -0.4222672955196989,
          -0.4431449175529594,
          -3.262782515561117,
          0.8971110352702675,
          2.459492499289262,
          2.0884753366018467,
          0.5627251120564795,
          -1.877033907977334
         ]
        },
        {
         "legendgrouptitle": {
          "text": "Type"
         },
         "line": {
          "width": 0.02
         },
         "marker": {
          "color": "green",
          "opacity": 1,
          "reversescale": true,
          "size": 5
         },
         "mode": "markers",
         "name": "Malignant",
         "type": "scatter3d",
         "x": [
          -1.2370633571410108,
          -1.5781612356262102,
          -3.557336367570342,
          -3.7493133935978395,
          -4.5819366693836034,
          -2.1364452837035808,
          -1.5674789962183455,
          -3.5429055573825607,
          -3.157814045664991,
          -3.4504885401446175,
          -2.8581584411213328,
          -3.7214589964236766,
          -4.135962938950073,
          -2.3858356694765086,
          -2.5788832597039053,
          -2.31413224210134,
          -2.7859247552557154,
          -3.5186483381384863,
          4.330002648353276,
          -3.2612794759709,
          -0.3078557774883381,
          -2.6299766405587395,
          -0.8345178917227597,
          -2.0215776624803543,
          -1.6383849370995789,
          1.1674616110589995,
          -2.1744643145764937,
          -0.9341581016525969,
          1.2596046403837855,
          -1.588263974683353,
          -2.847431583051528,
          -1.9649501179738171,
          -2.592082826032571,
          -3.9043381503732104,
          -2.8182312096093245,
          -4.555028840191086,
          -3.4481835397339853,
          -2.115960266572686,
          -2.691352208086655,
          -0.7492713599107437,
          -3.15900603579667,
          -2.228679811027857,
          -2.4928310331248706,
          -0.10335041763877552,
          3.5912941235420877,
          -1.348948678480399,
          -2.510117673260399,
          -2.0460295782536915,
          -2.097069160451176,
          -2.965999208652318,
          -0.7707436782007719,
          -2.2025155230405646,
          -3.1434122463701413,
          1.4088683624362244,
          -1.8774673677876401,
          -0.7091148311450188,
          -2.6007895078203305,
          -3.258007361733436,
          -1.9920347257980033,
          -5.015008692881705,
          -2.4559688134191933,
          -1.8372816657988003,
          -4.346489712746211,
          -0.7328129207762283,
          0.3930986608498843,
          -0.4123278116901254,
          -3.049924942434211,
          -1.4425637369978381,
          0.0831861028516911,
          7.093306704282713,
          -3.743404542533157,
          -0.9691728141745585,
          -2.4187199064190326,
          -0.7516030056700874,
          -3.6546465305448885,
          -4.680211574735449,
          -0.5977817709001679,
          -1.3250313469876722,
          -2.9974032104262776,
          -4.386732720524599,
          -1.9777014432991953,
          -2.5148764201622162,
          -3.4839862921780202,
          -4.658729578966031,
          -5.351618113901376,
          1.1708977723438303,
          -4.975702060672266,
          -4.06402565616649,
          -2.6593596159686554,
          -3.8890655292622016,
          -2.835890915662615,
          -3.310283625559558,
          -3.3573044058170813,
          -1.7177351761803639,
          -5.565735893081139,
          -2.8190385091136205,
          -1.4734313709815343,
          -0.781189967781205,
          -3.4548953889982985,
          0.3144382303810672,
          -2.0591919425175207,
          -2.99871053034497,
          -0.38875629954097474,
          -2.7569329921312296,
          -2.3735018029273345,
          -0.9671903153646411,
          -2.975798787661212,
          -2.478359512356902,
          -0.8260392955032798,
          -3.894697330766553,
          -0.3895780904203815,
          -1.457321356307674,
          -4.019140242478351,
          -3.6764132945058754,
          -4.036607356235327,
          -2.3342333504161266,
          -0.6817688638706241,
          -2.2277205207351694,
          -4.4775846550085925,
          1.3226214173736643,
          -1.8500898653966569,
          -2.2813180963998416,
          -3.2287701172811647,
          1.025900781752084,
          -2.5825558387298218,
          -2.4858832274144826,
          -3.032481141136779,
          -1.4646759340183704,
          -2.012152427621431,
          -2.2843402584090557,
          -0.7397430913969665,
          -4.506562507799547,
          -3.1587543016573476,
          -3.6391359639657335,
          -1.276583381948621,
          -4.346014058249877,
          -3.4924260375139125,
          -1.8665488550299416,
          -2.470722674968798,
          -1.3726850206557262,
          -4.138882574538504,
          -0.6869402912009255,
          -4.312129580532706,
          0.40330942689439747,
          -3.0036057949876045,
          3.1340081836938527,
          -0.41783686662341235,
          -1.4202231354874044,
          -2.870588347601442,
          -3.3658457037845055,
          -3.315000155443421,
          -4.769710160243126,
          -2.787096006401095,
          -3.3938417678421344,
          -1.4553305173925053,
          -3.5788354030767007,
          -3.0570326427540837,
          -3.0744358300608146,
          -3.8535397358308368,
          -5.390256381370421,
          -4.657682334897199,
          -4.027542390803717,
          -3.3478219392525235,
          -3.299842010721794,
          -2.1364041435065646,
          -4.0380171413801085,
          -3.765414551757017,
          -4.871239384820377,
          -4.747248515406657,
          1.5729311543681206,
          -4.026620250081046,
          -1.2948661706674132,
          -1.8103805630340855,
          -3.1456501881173815,
          -2.8872680621187166,
          -3.1496539866242914,
          -4.628379479369678,
          -0.5276966195807393,
          -3.213500983928334,
          -4.38642296576339,
          -3.8100178674730145,
          -2.393275961365973,
          -3.0676951420316776,
          0.29531318277080953,
          -1.938969493450597,
          -2.0771789175935464,
          -2.1769168814758832,
          -2.43155145212694,
          -3.367965777560413,
          -1.206597788619516,
          -3.3260792462112367,
          -1.9287954084350019,
          -4.041835087844807,
          -3.012194968792314,
          -0.9826485777424658,
          0.357893859378817,
          -3.193917864467667,
          -2.9932332937697534,
          -3.1939141475354313,
          -4.591961855171266,
          -2.485916157812078,
          -2.398665346828191,
          -0.7796152022415924,
          -3.1399884266528595,
          -2.223775747611718,
          -2.4996363734068594,
          -2.6149483089244714,
          -0.09610811287332026,
          2.044856943122781,
          -3.0667495257545245,
          -1.6035864473450054,
          -0.925566605996245,
          -3.288349590273707,
          -1.554852143709709,
          -0.39877992475763674,
          -2.300567824323043,
          -2.058819456157301,
          -3.424518053814675,
          -0.4724065532626032,
          -3.6433802386067704,
          -3.594689346266102,
          -2.0103794157736687,
          -2.9208334907735853,
          -0.5007378024264171,
          -1.911498576222801,
          -3.785099226779539,
          -2.7083939727045565,
          -3.4307706952267414,
          -2.0013884670133852,
          -2.4732930953895504,
          -3.6472577445239946,
          -2.3461868475540735,
          -1.142996926622509,
          -1.3508573076094412,
          -1.9693236075607121,
          -2.931187056364455,
          -2.9263743883839903,
          -3.9961882759583545,
          0.15513805910401984,
          -1.9296217317869393,
          -2.6223386020474204,
          -2.92187780344402,
          -3.3419448065306994,
          -2.0149150324072886,
          1.9884621109044942,
          -1.6696039322881135,
          -0.3711781136192139,
          -1.8489599281359705,
          -4.703042198071386,
          -1.2831871508030086,
          -2.314246821152496,
          -4.6590851725802525,
          -3.943473381017783,
          -0.9158035192867352,
          -2.1949843030658753,
          -2.240876051951759,
          -2.1251804346097742,
          -2.615317411879664,
          -3.2109679730676266,
          -0.30675039547235505,
          -3.4547183733442743,
          -3.9005268467448406,
          -1.2572515657311982,
          -1.557219413465993,
          -1.249258097268045,
          -1.0774513287482683,
          -2.2170923070878366,
          -1.1738306498992046,
          -2.8363014441010854,
          -1.8570858988669083,
          -1.3286143736138238,
          -2.802771360291049,
          -3.1745687995216096,
          -4.087077360022472,
          -2.5601150185167585,
          -2.9688887970493747,
          -2.757430449403581,
          1.3703398686255883,
          -0.4176644932002194,
          -3.8383986196078363,
          0.6454786517444493,
          -2.683846400489959,
          -2.0416640540641064,
          -1.3992963496555972,
          -3.5364152958165156,
          -1.990529451231715,
          -1.9981853694948024,
          -0.5206581120945474,
          -3.1723704870298133,
          -2.202710192773187,
          -2.9854846901660412,
          -2.481055107865273,
          -1.2721114598236924,
          -2.235156888743823,
          -0.05618310466600714,
          2.3173906065334715,
          -2.284331264694218,
          -1.7263109196340276,
          -2.8943106608002247,
          -1.6545218442631897,
          -4.064270592730002,
          -2.7933306555372996,
          -1.4749199376349553,
          -0.2293946365891907,
          -2.553258406814722,
          -0.6006161080418189,
          -1.4087712154152492,
          1.2988665467768636,
          1.0766932882987728,
          -1.2497605275862709,
          -1.2569284025288003,
          -1.1665352140836545,
          -1.887639237033591,
          -2.767435703547918,
          -1.131576896102826,
          -2.3336707376817456,
          -0.1998705789895589,
          -1.176025916201465,
          -1.2926365376880808,
          -4.4294563691539395,
          -0.6198387357833888,
          -3.252315764487372,
          -3.352927052061791,
          -0.8598029886829363,
          -3.1566219697687505,
          0.34652811149081925,
          -2.4614066517608437,
          -1.5301007183942972,
          -1.77358507042275,
          -2.6804416230808616,
          -2.1363512281860637,
          0.3431233840941868,
          -4.1970799809520685,
          -1.1428318610836241,
          -1.665475152206997,
          1.0117124919525906,
          -1.3009297098068187,
          -2.373428724212459,
          -1.6658710101128025,
          -1.9276781962861276,
          -4.237216619731518,
          -2.6778707196262883,
          -3.8364978503474108,
          -2.5514402940042,
          -4.694923443577348,
          -2.0250371685412834,
          -2.895948204775374,
          -3.502201037478568,
          -2.153903669460616,
          -2.0550840664556493,
          -3.8772895789683477,
          -4.063862114665661,
          -0.0986673330875516,
          -1.0893761878829022,
          -0.48177096665472396,
          -4.8703095182843175,
          -5.4752432954618575
         ],
         "y": [
          -0.18821507618060365,
          0.5728085888711224,
          1.662949379467111,
          -1.4134733960625956,
          1.4842200964129848,
          0.09583019671326005,
          -1.2084333551888065,
          -1.2824956038319062,
          -1.6889590104167316,
          -0.49821910517665313,
          0.15272309509004192,
          -1.7876414163932053,
          2.403792163431435,
          2.757658563680492,
          3.1386728981476044,
          3.267988934243675,
          2.3106486351540045,
          -0.6583098230423308,
          9.202526309498701,
          -0.9378379400101692,
          7.387812648619684,
          -0.6973091699520926,
          1.9656056701678792,
          -0.2548993939827609,
          1.7159493076556986,
          2.5145157810834196,
          0.49687849068313,
          0.9277010928897897,
          1.0155777163894981,
          -1.6196565625057815,
          -2.8936480227889634,
          -0.9651564041519315,
          0.21363376110965912,
          1.1900666055131477,
          0.36788361243036044,
          3.5287861816127752,
          -1.4246226408016327,
          1.8493737048737282,
          1.420062125431179,
          1.7976388535899563,
          -1.0357494768486848,
          0.6674104242078075,
          2.5986860764750817,
          2.2801427606981095,
          3.92633266968882,
          3.5562249445505194,
          3.251319419088698,
          0.30488540503240424,
          3.667095503281537,
          0.37150663912702847,
          -0.06410914915331761,
          -0.7356053408970878,
          -1.8774087930858925,
          1.3049294845803243,
          1.423231071889144,
          -1.568232450011082,
          -0.48233513970141606,
          -0.418321210263814,
          1.329355541747132,
          0.5747002123576277,
          0.8984556941242969,
          -0.09102703394923993,
          -0.8935722218333004,
          3.702182916989763,
          1.0830683035771191,
          -0.3896314596142414,
          -2.2377842801051497,
          0.3058710341788213,
          7.150359609218533,
          12.573195255737934,
          0.25050148471624506,
          0.944944249922715,
          0.0055522596836353865,
          -3.070648433003007,
          -0.674648602218576,
          -1.1038574968114114,
          1.785651233359306,
          1.469294100042332,
          -2.7388606946657466,
          0.006872245153512419,
          -1.8427789891157145,
          0.11425234942788014,
          1.6196913680569267,
          -0.22291469768220146,
          1.0267576774783147,
          7.014487109364311,
          -3.386205025957332,
          -1.2461664496275546,
          0.5399359505182018,
          0.8160718481824506,
          -0.3987300049937458,
          0.1557417017979111,
          -1.103732124800737,
          -0.5431657575948198,
          -0.47784824474366644,
          -0.9701106565053064,
          0.11689027669352678,
          0.6528492967446616,
          1.306938992844933,
          2.077560509759141,
          -2.4727878309603164,
          -0.3967778142445188,
          2.27679810590291,
          1.0868348390570794,
          -0.7334023609753991,
          0.4384386001081664,
          1.8109737772644134,
          -1.418576538854252,
          -1.2502472390061399,
          0.5385710164068824,
          -0.6144154172671565,
          -0.20172694719786732,
          -1.354247217284367,
          -1.291629025857368,
          1.1625453846729605,
          -1.3489796523816975,
          -1.1359912593608112,
          -1.2149996033859067,
          -1.7411293902309397,
          4.789476749339988,
          -1.5841277101974387,
          2.0776855971320125,
          -1.1720735155972832,
          2.3612622719818908,
          0.7292132939024205,
          0.4605964908415932,
          -0.6494688128041108,
          1.6866318739640358,
          -1.1034865253956363,
          0.009494356276564739,
          3.1525212688539406,
          -3.1692728531693204,
          0.4103017234832357,
          1.5895865972237817,
          0.8490528842961348,
          -0.32197764043536314,
          -2.634082316056543,
          -0.902064052597708,
          -0.13802733379757498,
          0.005805265657828387,
          -1.3765080788505606,
          1.6950095242638805,
          -1.9784864077452853,
          3.7234335866591186,
          0.35416007376450587,
          4.273461194229619,
          -0.8085766946332414,
          1.3939780281680487,
          -0.2686445738686493,
          -0.8076004828048144,
          -1.4421760732645266,
          -0.5429619527987022,
          -2.533034274814511,
          0.7539636298561483,
          0.5919428128155876,
          0.8915829943664582,
          -0.17921326530351003,
          -0.3060585648909913,
          -1.5247261062074002,
          0.5562543505683079,
          -3.065387367445264,
          -2.5429068535159054,
          -0.0685631426714676,
          -3.138709424542334,
          -0.004392751893659738,
          -0.2406979860696216,
          4.398200115261121,
          -2.339214640477406,
          -1.798402065116747,
          6.5090983199659185,
          -1.4022069413658471,
          3.4708086199109895,
          0.3962077877068125,
          -0.7425264921327336,
          -0.46473118144198744,
          -1.7712481156596211,
          -1.8356186568372734,
          1.2658719109988696,
          1.1034435108481326,
          -0.7611037042509767,
          -0.9099187063594569,
          0.9900306679945743,
          1.1358377394030155,
          0.22693516011719791,
          2.544987816122767,
          1.8065191862876941,
          0.9589114097361328,
          3.4472036592128976,
          -0.56292897638866,
          -1.3170445556298893,
          0.4751712750612749,
          1.4614705750493726,
          -1.3569178148045529,
          0.24375978958604164,
          0.7972520880980128,
          2.127838924157831,
          -1.8491520744685905,
          1.6313913743410149,
          0.5793392690257851,
          -2.7611270532812355,
          -1.1889390258760635,
          -0.250744596056252,
          -2.1243430637801466,
          -1.4880220571871714,
          -0.35716049883676865,
          -2.0185356700978296,
          -1.102474285514913,
          -0.12984782695355018,
          6.426819199292532,
          -2.182095759989664,
          0.29259647701031083,
          2.302481638132316,
          0.2013110397243166,
          0.979857036238166,
          2.1612133450927313,
          -0.9320773608936276,
          0.3204350644609721,
          -2.445518475985206,
          3.7028296015581614,
          0.7868599676505247,
          2.6050874299820452,
          0.42968989693558246,
          -1.7004727927358443,
          0.1067316385824115,
          -0.6513938635429327,
          -0.3261465434659185,
          -0.21966530020797137,
          -0.9926096974509646,
          -0.2933262735659665,
          -0.3350467702184042,
          -1.2413654167331978,
          0.6827410448305056,
          -1.962171388508321,
          0.3695742563964055,
          -0.1758482730011528,
          -0.4948561040550475,
          0.377332562935072,
          0.9598560053782818,
          -0.43800824133117267,
          0.8924669780724841,
          2.5021015888153677,
          -0.00921293703946064,
          -0.022224398508647263,
          0.7784521208216183,
          2.3160478373340676,
          0.8623190083516495,
          0.11361254016722411,
          2.5412294476322503,
          -0.4323028142391577,
          2.550909441433496,
          0.40203166222751735,
          -0.7822991796903132,
          -2.0300163897098624,
          2.4790133215035497,
          -1.8053529864530051,
          -0.45458954837916526,
          -1.1947971491538683,
          -1.8320603306579761,
          -2.2351430210764778,
          2.1849985383351576,
          -2.1364613405521133,
          0.7307757206107461,
          1.0676909951201157,
          -1.0379268568819064,
          -1.5888386976224274,
          1.8036179905364367,
          0.029891411097664567,
          -0.47483936878026106,
          -1.018125864734458,
          -1.5713931194617563,
          0.7770958624114112,
          -1.6663013126280413,
          -2.0757333890426457,
          -0.48471025039424137,
          -2.4940454096554205,
          -0.06884709777982065,
          -1.7939190435757086,
          2.110011920056535,
          0.11651970428231063,
          0.8991783218734806,
          3.426011100750017,
          1.4435554127510812,
          -0.9032559187745238,
          -1.7722263389223742,
          -1.2468541659665073,
          1.8994629723234964,
          -0.20637093719383684,
          -0.9733676914183849,
          -2.089052458614693,
          1.2860397863040571,
          -0.6733390838567818,
          -2.363958745438788,
          0.509833725984936,
          -1.2987043421626583,
          -0.2273833573734591,
          4.38913447096072,
          -2.4668403348680754,
          0.9981779887756818,
          -0.9779442792781122,
          -4.555664215962177,
          -0.5609548914234379,
          -1.0778882498561855,
          -1.5910941789795323,
          1.5159033720889805,
          -0.7639004929337128,
          -0.8384550401706659,
          1.5057708467115425,
          7.7298532984387185,
          8.29477439895824,
          1.5956842596881242,
          4.1171863037749805,
          -1.6656938618617283,
          1.6721912050592413,
          -2.1610487727753673,
          -1.4110014761062368,
          0.7901467759166458,
          1.0763601715524025,
          1.0113705829532178,
          4.964224833742069,
          -0.7860361352215988,
          0.6363489427482234,
          1.2859248258632763,
          2.6733004454121763,
          0.09684892865018922,
          -0.8715425552664425,
          1.5412254892073285,
          0.6008481683829735,
          0.40521759958345005,
          0.8042105188599217,
          -1.4847088266809785,
          1.51858073781354,
          3.5344811060806145,
          2.367391534259052,
          5.5994584457500505,
          2.3896182715815724,
          1.0923899628376805,
          -1.8214155511733299,
          -1.6815762672154064,
          -0.2139626677187311,
          -1.1377394725210337,
          0.18427269668432927,
          2.315792565958216,
          0.49624967329796604,
          0.22832983749222285,
          -0.767478196757171,
          1.2612423386411211,
          -1.4516358585756448,
          1.8008321204263127,
          -0.8300686690166411,
          1.616458985575013,
          1.0842547985449813,
          0.1221682483472769,
          -0.2135596002472477,
          1.2928477205097266,
          -0.1780196026274612,
          -2.131106113966705,
          -0.6706377482178468
         ],
         "z": [
          -0.5932805925217661,
          -1.8014566985602252,
          0.451202988327392,
          1.7323154764787603,
          0.04208150624057167,
          -1.4924291822673084,
          -0.3691551790907954,
          1.0182116132529626,
          -0.49628156131619805,
          -0.1525069609376318,
          0.42893535332395977,
          1.2799253661799204,
          -1.2429482801148521,
          1.214071913344128,
          1.4002529333890712,
          2.7962459207799744,
          0.4727277717359457,
          0.5913843702883075,
          1.4929467116996347,
          0.20512403112973196,
          3.8190718863234228,
          -0.5839473765941094,
          0.7904081495410262,
          -0.6478846577285614,
          0.4342015821523039,
          -1.9057170201939446,
          -0.9491065136866228,
          -0.0401529809930767,
          -0.08061178196029645,
          0.3099915254731352,
          0.5280011532756951,
          -0.08122461431101112,
          1.0356162806251465,
          1.5519816550563594,
          -1.3514249305888528,
          -0.21526777907911648,
          -0.08871882929193091,
          -0.556677520127709,
          0.969139917339956,
          -0.5683757117954925,
          -1.4906821283280705,
          -1.0915539723980343,
          1.6697315438623497,
          2.1095858221552555,
          2.0470210340820083,
          1.732197109752257,
          -1.6876213348906401,
          -0.533854474350137,
          3.632214331869327,
          -2.0665378585946286,
          -1.1344109529401003,
          0.26708322510246857,
          -0.6703751115342519,
          0.6414266028432749,
          -1.0708246239533568,
          -0.6699907059507004,
          1.8723629008992548,
          -0.6918113516698063,
          1.1352340041675613,
          -0.8424452767684183,
          0.3531224689069023,
          -1.4452725057886073,
          0.6392549064104848,
          0.6584899307382085,
          2.2475981754940433,
          -1.0457663817315834,
          -0.46945979850446384,
          0.5515308656789039,
          -0.06000561498513085,
          7.35867775839386,
          -0.09738201741489995,
          -0.8908099896776244,
          -0.7983759335710664,
          1.449176088912752,
          -0.9069905180682643,
          -0.25730144069531985,
          1.4817252489654025,
          0.8484195451348935,
          -0.16119410365842352,
          -0.9481069881811526,
          -0.27737198015160514,
          -0.496624583593716,
          2.675486969432462,
          1.5593554291488125,
          0.32499084893699426,
          4.271846181671774,
          0.43984296506721765,
          0.5744856139596016,
          1.7070109150107478,
          1.015713058274947,
          -0.3474363302811764,
          0.5414642824592101,
          0.15208121903938748,
          3.2983807739916426,
          4.1274817497066465,
          -0.3825890475737028,
          -0.21466910011637283,
          -0.6436583184420044,
          -0.029272473529316355,
          -2.0833046045754275,
          -1.4617177548651048,
          -0.5964720922298178,
          0.627326668673714,
          1.7072340151246308,
          -1.5260328962392173,
          -1.447708172561521,
          -0.22343523894905634,
          -0.316531028362179,
          0.26795367232391815,
          -0.8815665488927592,
          -1.3528706113840365,
          -1.098874072629837,
          -0.36047763719011583,
          0.4246086820140151,
          0.18976806354648035,
          0.2326849042483112,
          1.2336706482432023,
          -0.1924166874290383,
          -0.888206129117719,
          -0.6625401521734557,
          1.2639040843056477,
          2.430659564576031,
          0.2646656108574523,
          -1.616896476687519,
          -0.5481478527028256,
          -0.5989234079157768,
          0.31068289244394365,
          1.1699044274650447,
          1.338023757738566,
          -0.4504600338360289,
          1.4698390938537862,
          -0.18805386775536734,
          -1.1088155921727074,
          0.7162925717872658,
          3.0700691201142316,
          0.38846268378379617,
          -0.07218976644836847,
          -0.8711731672010506,
          1.7949161452168125,
          1.5492955159623139,
          0.8780440342583835,
          1.026215471427133,
          -0.2512987541535849,
          4.58648202285746,
          1.2340188347903394,
          5.866230178746113,
          -1.0932884041096909,
          -0.8369852500141787,
          -0.46898547915764915,
          -0.8070824196313622,
          -0.5836367253442915,
          0.8938700920995757,
          -0.8840263684257578,
          1.771803170513079,
          1.1463420257337475,
          0.2614874156536725,
          0.6217702510507493,
          1.2592575862684705,
          -1.1445187615098449,
          0.5601039831051421,
          -0.0760108793029461,
          0.3532112379526073,
          -0.2701899440957777,
          0.14889350152124886,
          -0.055141822124300875,
          -1.3281282596675807,
          3.9502176516115566,
          -0.16829899106442864,
          0.1697228208519499,
          2.1671897170913437,
          3.186512723814559,
          1.1095282740783836,
          -1.230347880282489,
          -0.8623524692109046,
          -0.47575595314600416,
          -0.03584184212042779,
          0.06423990275830478,
          -0.9204492052776926,
          1.6119705530763453,
          -0.4005976458205962,
          0.443172424935253,
          -0.7575061453160722,
          0.37461776474404324,
          -1.089419829620606,
          -1.0014146634696561,
          -1.167070345709183,
          -0.23426956571855434,
          3.4569514312286462,
          -0.19257113270895881,
          -0.930734665294846,
          -0.89827719647152,
          -0.10066434311393033,
          0.5383513901513457,
          1.9837383835341909,
          2.369430402801296,
          0.7082004988510271,
          0.09939883413173152,
          2.556741876122678,
          0.48976992409447756,
          0.9805408286491428,
          0.3487660274926697,
          -0.3271428181128293,
          0.32077889170671003,
          -1.1988814964882772,
          -1.101688355680768,
          -0.7312732268625786,
          -1.2407411412817968,
          -1.6714566360209526,
          1.2741406756204634,
          -0.27906038296846425,
          -1.586233676537469,
          -1.5961182396708091,
          -0.6277471234554935,
          1.1965795858248451,
          -0.9456244668170378,
          -1.1299600261967315,
          -0.12245665511821537,
          0.04505094818035446,
          1.9537802596851344,
          -1.1621469003276017,
          1.8520232769134366,
          -0.10409782966860412,
          0.29573688002780546,
          -1.0287531841802262,
          1.4502876513164449,
          -1.0580755391802976,
          -0.31451761384165694,
          -0.7317045300826241,
          0.6191991368222022,
          -1.4823689079395186,
          1.3866325134506392,
          1.1327422436238994,
          -1.240722368974495,
          2.48666510377405,
          0.4207246040531481,
          -1.017074207037556,
          -0.8868023488126606,
          0.2044068448396272,
          -0.46144578144084525,
          0.042337175245766315,
          2.4349999748126208,
          -0.9012969336052333,
          0.5032918742162044,
          0.12557943829497265,
          1.2363119797347761,
          -1.0103106196355478,
          -0.9983607660135283,
          2.0053533172969593,
          0.005316277261961642,
          -0.08386351713354837,
          0.2746178813424804,
          0.1921339700484536,
          0.6917386915922654,
          0.36260194748427393,
          -0.4351164700373243,
          -0.4655259006138435,
          0.49037880689548835,
          0.7643267767980909,
          -0.16621554576932707,
          0.03929513828717589,
          0.19715705585241067,
          2.1360775476757445,
          0.2594903086554129,
          -1.301251702798529,
          -0.32641596603959105,
          1.7810465145074996,
          0.6364563252847106,
          -0.4815757777057341,
          -1.4866284987399312,
          0.8264826957864136,
          1.2567530478382638,
          -0.19402787085394674,
          0.07489342208283815,
          0.6313686449590167,
          0.1703114025873865,
          -0.7784129998485911,
          -0.7578064269277659,
          -0.8537374934721954,
          -0.5361429546844897,
          0.7005736242456203,
          0.6082948465936494,
          0.3394064949632557,
          2.8432401592251604,
          -1.4795591563735198,
          3.385411124872201,
          -2.031010680676735,
          -1.6413310521736497,
          -0.32413798014686207,
          -0.978801336947109,
          -0.8874125496561335,
          -0.5904936099999135,
          -0.4326152437285906,
          -2.2389881272769583,
          -0.9014409602108582,
          -2.2555166703005716,
          1.7784079903809349,
          -0.8212004820269673,
          -0.08024309188454708,
          -0.8056451347239608,
          0.752326143042458,
          2.176703391857788,
          0.8445459014939898,
          0.3199908802503793,
          -2.2162817400476262,
          -1.609402454915341,
          -0.6870301838682344,
          -0.3539027295557061,
          -0.6889277224699455,
          0.43422403643548946,
          -1.3564859693304527,
          -0.4127194844087,
          -0.7378749943459373,
          0.11981258350639154,
          -0.02109711516226364,
          -0.5650675110006164,
          -0.3500478293473136,
          -0.6731521815311368,
          -0.7117796655593558,
          0.34592453415675556,
          -0.47341586561528665,
          -0.48884113423954967,
          -0.21846621752763745,
          -1.7790827592378546,
          -2.8140558470722805,
          -2.195716925955438,
          2.8464477263052452,
          -1.1714703893114677,
          0.6044710141535904,
          -2.0279324147994977,
          -1.7416947822098459,
          0.17896313613985118,
          0.06966801713573095,
          1.3271654017886412,
          1.3010394553538693,
          1.502246424118637,
          -0.6327078318141854,
          0.37331445698940957,
          0.38452924992799103,
          -0.14807347446887803,
          0.4781896810519376,
          -0.32642416468083196,
          -0.05384132191860229,
          0.9232465495318377,
          1.4141819802647335,
          1.5439718420613135,
          0.504913342098911,
          0.7805485868086212,
          2.7664670192215004,
          0.56479204850092,
          1.8389669420367016,
          1.8599428927542532,
          3.2387773078494035,
          0.3889235632523186,
          1.4293842456172894,
          1.0321045088170866,
          3.4141889231482607,
          1.490470050588203
         ]
        }
       ],
       "layout": {
        "margin": {
         "b": 10,
         "l": 10,
         "r": 20,
         "t": 30
        },
        "scene": {
         "xaxis": {
          "title": {
           "text": "prin component 1"
          }
         },
         "yaxis": {
          "title": {
           "text": "prin component 2"
          }
         },
         "zaxis": {
          "title": {
           "text": "prin component 3"
          }
         }
        },
        "template": {
         "data": {
          "bar": [
           {
            "error_x": {
             "color": "#2a3f5f"
            },
            "error_y": {
             "color": "#2a3f5f"
            },
            "marker": {
             "line": {
              "color": "#E5ECF6",
              "width": 0.5
             },
             "pattern": {
              "fillmode": "overlay",
              "size": 10,
              "solidity": 0.2
             }
            },
            "type": "bar"
           }
          ],
          "barpolar": [
           {
            "marker": {
             "line": {
              "color": "#E5ECF6",
              "width": 0.5
             },
             "pattern": {
              "fillmode": "overlay",
              "size": 10,
              "solidity": 0.2
             }
            },
            "type": "barpolar"
           }
          ],
          "carpet": [
           {
            "aaxis": {
             "endlinecolor": "#2a3f5f",
             "gridcolor": "white",
             "linecolor": "white",
             "minorgridcolor": "white",
             "startlinecolor": "#2a3f5f"
            },
            "baxis": {
             "endlinecolor": "#2a3f5f",
             "gridcolor": "white",
             "linecolor": "white",
             "minorgridcolor": "white",
             "startlinecolor": "#2a3f5f"
            },
            "type": "carpet"
           }
          ],
          "choropleth": [
           {
            "colorbar": {
             "outlinewidth": 0,
             "ticks": ""
            },
            "type": "choropleth"
           }
          ],
          "contour": [
           {
            "colorbar": {
             "outlinewidth": 0,
             "ticks": ""
            },
            "colorscale": [
             [
              0,
              "#0d0887"
             ],
             [
              0.1111111111111111,
              "#46039f"
             ],
             [
              0.2222222222222222,
              "#7201a8"
             ],
             [
              0.3333333333333333,
              "#9c179e"
             ],
             [
              0.4444444444444444,
              "#bd3786"
             ],
             [
              0.5555555555555556,
              "#d8576b"
             ],
             [
              0.6666666666666666,
              "#ed7953"
             ],
             [
              0.7777777777777778,
              "#fb9f3a"
             ],
             [
              0.8888888888888888,
              "#fdca26"
             ],
             [
              1,
              "#f0f921"
             ]
            ],
            "type": "contour"
           }
          ],
          "contourcarpet": [
           {
            "colorbar": {
             "outlinewidth": 0,
             "ticks": ""
            },
            "type": "contourcarpet"
           }
          ],
          "heatmap": [
           {
            "colorbar": {
             "outlinewidth": 0,
             "ticks": ""
            },
            "colorscale": [
             [
              0,
              "#0d0887"
             ],
             [
              0.1111111111111111,
              "#46039f"
             ],
             [
              0.2222222222222222,
              "#7201a8"
             ],
             [
              0.3333333333333333,
              "#9c179e"
             ],
             [
              0.4444444444444444,
              "#bd3786"
             ],
             [
              0.5555555555555556,
              "#d8576b"
             ],
             [
              0.6666666666666666,
              "#ed7953"
             ],
             [
              0.7777777777777778,
              "#fb9f3a"
             ],
             [
              0.8888888888888888,
              "#fdca26"
             ],
             [
              1,
              "#f0f921"
             ]
            ],
            "type": "heatmap"
           }
          ],
          "heatmapgl": [
           {
            "colorbar": {
             "outlinewidth": 0,
             "ticks": ""
            },
            "colorscale": [
             [
              0,
              "#0d0887"
             ],
             [
              0.1111111111111111,
              "#46039f"
             ],
             [
              0.2222222222222222,
              "#7201a8"
             ],
             [
              0.3333333333333333,
              "#9c179e"
             ],
             [
              0.4444444444444444,
              "#bd3786"
             ],
             [
              0.5555555555555556,
              "#d8576b"
             ],
             [
              0.6666666666666666,
              "#ed7953"
             ],
             [
              0.7777777777777778,
              "#fb9f3a"
             ],
             [
              0.8888888888888888,
              "#fdca26"
             ],
             [
              1,
              "#f0f921"
             ]
            ],
            "type": "heatmapgl"
           }
          ],
          "histogram": [
           {
            "marker": {
             "pattern": {
              "fillmode": "overlay",
              "size": 10,
              "solidity": 0.2
             }
            },
            "type": "histogram"
           }
          ],
          "histogram2d": [
           {
            "colorbar": {
             "outlinewidth": 0,
             "ticks": ""
            },
            "colorscale": [
             [
              0,
              "#0d0887"
             ],
             [
              0.1111111111111111,
              "#46039f"
             ],
             [
              0.2222222222222222,
              "#7201a8"
             ],
             [
              0.3333333333333333,
              "#9c179e"
             ],
             [
              0.4444444444444444,
              "#bd3786"
             ],
             [
              0.5555555555555556,
              "#d8576b"
             ],
             [
              0.6666666666666666,
              "#ed7953"
             ],
             [
              0.7777777777777778,
              "#fb9f3a"
             ],
             [
              0.8888888888888888,
              "#fdca26"
             ],
             [
              1,
              "#f0f921"
             ]
            ],
            "type": "histogram2d"
           }
          ],
          "histogram2dcontour": [
           {
            "colorbar": {
             "outlinewidth": 0,
             "ticks": ""
            },
            "colorscale": [
             [
              0,
              "#0d0887"
             ],
             [
              0.1111111111111111,
              "#46039f"
             ],
             [
              0.2222222222222222,
              "#7201a8"
             ],
             [
              0.3333333333333333,
              "#9c179e"
             ],
             [
              0.4444444444444444,
              "#bd3786"
             ],
             [
              0.5555555555555556,
              "#d8576b"
             ],
             [
              0.6666666666666666,
              "#ed7953"
             ],
             [
              0.7777777777777778,
              "#fb9f3a"
             ],
             [
              0.8888888888888888,
              "#fdca26"
             ],
             [
              1,
              "#f0f921"
             ]
            ],
            "type": "histogram2dcontour"
           }
          ],
          "mesh3d": [
           {
            "colorbar": {
             "outlinewidth": 0,
             "ticks": ""
            },
            "type": "mesh3d"
           }
          ],
          "parcoords": [
           {
            "line": {
             "colorbar": {
              "outlinewidth": 0,
              "ticks": ""
             }
            },
            "type": "parcoords"
           }
          ],
          "pie": [
           {
            "automargin": true,
            "type": "pie"
           }
          ],
          "scatter": [
           {
            "marker": {
             "colorbar": {
              "outlinewidth": 0,
              "ticks": ""
             }
            },
            "type": "scatter"
           }
          ],
          "scatter3d": [
           {
            "line": {
             "colorbar": {
              "outlinewidth": 0,
              "ticks": ""
             }
            },
            "marker": {
             "colorbar": {
              "outlinewidth": 0,
              "ticks": ""
             }
            },
            "type": "scatter3d"
           }
          ],
          "scattercarpet": [
           {
            "marker": {
             "colorbar": {
              "outlinewidth": 0,
              "ticks": ""
             }
            },
            "type": "scattercarpet"
           }
          ],
          "scattergeo": [
           {
            "marker": {
             "colorbar": {
              "outlinewidth": 0,
              "ticks": ""
             }
            },
            "type": "scattergeo"
           }
          ],
          "scattergl": [
           {
            "marker": {
             "colorbar": {
              "outlinewidth": 0,
              "ticks": ""
             }
            },
            "type": "scattergl"
           }
          ],
          "scattermapbox": [
           {
            "marker": {
             "colorbar": {
              "outlinewidth": 0,
              "ticks": ""
             }
            },
            "type": "scattermapbox"
           }
          ],
          "scatterpolar": [
           {
            "marker": {
             "colorbar": {
              "outlinewidth": 0,
              "ticks": ""
             }
            },
            "type": "scatterpolar"
           }
          ],
          "scatterpolargl": [
           {
            "marker": {
             "colorbar": {
              "outlinewidth": 0,
              "ticks": ""
             }
            },
            "type": "scatterpolargl"
           }
          ],
          "scatterternary": [
           {
            "marker": {
             "colorbar": {
              "outlinewidth": 0,
              "ticks": ""
             }
            },
            "type": "scatterternary"
           }
          ],
          "surface": [
           {
            "colorbar": {
             "outlinewidth": 0,
             "ticks": ""
            },
            "colorscale": [
             [
              0,
              "#0d0887"
             ],
             [
              0.1111111111111111,
              "#46039f"
             ],
             [
              0.2222222222222222,
              "#7201a8"
             ],
             [
              0.3333333333333333,
              "#9c179e"
             ],
             [
              0.4444444444444444,
              "#bd3786"
             ],
             [
              0.5555555555555556,
              "#d8576b"
             ],
             [
              0.6666666666666666,
              "#ed7953"
             ],
             [
              0.7777777777777778,
              "#fb9f3a"
             ],
             [
              0.8888888888888888,
              "#fdca26"
             ],
             [
              1,
              "#f0f921"
             ]
            ],
            "type": "surface"
           }
          ],
          "table": [
           {
            "cells": {
             "fill": {
              "color": "#EBF0F8"
             },
             "line": {
              "color": "white"
             }
            },
            "header": {
             "fill": {
              "color": "#C8D4E3"
             },
             "line": {
              "color": "white"
             }
            },
            "type": "table"
           }
          ]
         },
         "layout": {
          "annotationdefaults": {
           "arrowcolor": "#2a3f5f",
           "arrowhead": 0,
           "arrowwidth": 1
          },
          "autotypenumbers": "strict",
          "coloraxis": {
           "colorbar": {
            "outlinewidth": 0,
            "ticks": ""
           }
          },
          "colorscale": {
           "diverging": [
            [
             0,
             "#8e0152"
            ],
            [
             0.1,
             "#c51b7d"
            ],
            [
             0.2,
             "#de77ae"
            ],
            [
             0.3,
             "#f1b6da"
            ],
            [
             0.4,
             "#fde0ef"
            ],
            [
             0.5,
             "#f7f7f7"
            ],
            [
             0.6,
             "#e6f5d0"
            ],
            [
             0.7,
             "#b8e186"
            ],
            [
             0.8,
             "#7fbc41"
            ],
            [
             0.9,
             "#4d9221"
            ],
            [
             1,
             "#276419"
            ]
           ],
           "sequential": [
            [
             0,
             "#0d0887"
            ],
            [
             0.1111111111111111,
             "#46039f"
            ],
            [
             0.2222222222222222,
             "#7201a8"
            ],
            [
             0.3333333333333333,
             "#9c179e"
            ],
            [
             0.4444444444444444,
             "#bd3786"
            ],
            [
             0.5555555555555556,
             "#d8576b"
            ],
            [
             0.6666666666666666,
             "#ed7953"
            ],
            [
             0.7777777777777778,
             "#fb9f3a"
            ],
            [
             0.8888888888888888,
             "#fdca26"
            ],
            [
             1,
             "#f0f921"
            ]
           ],
           "sequentialminus": [
            [
             0,
             "#0d0887"
            ],
            [
             0.1111111111111111,
             "#46039f"
            ],
            [
             0.2222222222222222,
             "#7201a8"
            ],
            [
             0.3333333333333333,
             "#9c179e"
            ],
            [
             0.4444444444444444,
             "#bd3786"
            ],
            [
             0.5555555555555556,
             "#d8576b"
            ],
            [
             0.6666666666666666,
             "#ed7953"
            ],
            [
             0.7777777777777778,
             "#fb9f3a"
            ],
            [
             0.8888888888888888,
             "#fdca26"
            ],
            [
             1,
             "#f0f921"
            ]
           ]
          },
          "colorway": [
           "#636efa",
           "#EF553B",
           "#00cc96",
           "#ab63fa",
           "#FFA15A",
           "#19d3f3",
           "#FF6692",
           "#B6E880",
           "#FF97FF",
           "#FECB52"
          ],
          "font": {
           "color": "#2a3f5f"
          },
          "geo": {
           "bgcolor": "white",
           "lakecolor": "white",
           "landcolor": "#E5ECF6",
           "showlakes": true,
           "showland": true,
           "subunitcolor": "white"
          },
          "hoverlabel": {
           "align": "left"
          },
          "hovermode": "closest",
          "mapbox": {
           "style": "light"
          },
          "paper_bgcolor": "white",
          "plot_bgcolor": "#E5ECF6",
          "polar": {
           "angularaxis": {
            "gridcolor": "white",
            "linecolor": "white",
            "ticks": ""
           },
           "bgcolor": "#E5ECF6",
           "radialaxis": {
            "gridcolor": "white",
            "linecolor": "white",
            "ticks": ""
           }
          },
          "scene": {
           "xaxis": {
            "backgroundcolor": "#E5ECF6",
            "gridcolor": "white",
            "gridwidth": 2,
            "linecolor": "white",
            "showbackground": true,
            "ticks": "",
            "zerolinecolor": "white"
           },
           "yaxis": {
            "backgroundcolor": "#E5ECF6",
            "gridcolor": "white",
            "gridwidth": 2,
            "linecolor": "white",
            "showbackground": true,
            "ticks": "",
            "zerolinecolor": "white"
           },
           "zaxis": {
            "backgroundcolor": "#E5ECF6",
            "gridcolor": "white",
            "gridwidth": 2,
            "linecolor": "white",
            "showbackground": true,
            "ticks": "",
            "zerolinecolor": "white"
           }
          },
          "shapedefaults": {
           "line": {
            "color": "#2a3f5f"
           }
          },
          "ternary": {
           "aaxis": {
            "gridcolor": "white",
            "linecolor": "white",
            "ticks": ""
           },
           "baxis": {
            "gridcolor": "white",
            "linecolor": "white",
            "ticks": ""
           },
           "bgcolor": "#E5ECF6",
           "caxis": {
            "gridcolor": "white",
            "linecolor": "white",
            "ticks": ""
           }
          },
          "title": {
           "x": 0.05
          },
          "xaxis": {
           "automargin": true,
           "gridcolor": "white",
           "linecolor": "white",
           "ticks": "",
           "title": {
            "standoff": 15
           },
           "zerolinecolor": "white",
           "zerolinewidth": 2
          },
          "yaxis": {
           "automargin": true,
           "gridcolor": "white",
           "linecolor": "white",
           "ticks": "",
           "title": {
            "standoff": 15
           },
           "zerolinecolor": "white",
           "zerolinewidth": 2
          }
         }
        },
        "title": {
         "font": {
          "size": 20
         },
         "text": "Principal Component Analysis of Breast Cancer Dataset"
        },
        "width": 800
       }
      },
      "text/html": [
       "<div>                            <div id=\"3b505520-4ede-4b3a-9e6e-ee86b117e1ff\" class=\"plotly-graph-div\" style=\"height:525px; width:800px;\"></div>            <script type=\"text/javascript\">                require([\"plotly\"], function(Plotly) {                    window.PLOTLYENV=window.PLOTLYENV || {};                                    if (document.getElementById(\"3b505520-4ede-4b3a-9e6e-ee86b117e1ff\")) {                    Plotly.newPlot(                        \"3b505520-4ede-4b3a-9e6e-ee86b117e1ff\",                        [{\"line\":{\"width\":0.02},\"marker\":{\"color\":\"red\",\"opacity\":1,\"reversescale\":true,\"size\":5},\"mode\":\"markers\",\"name\":\"Benign\",\"x\":[9.19283683445156,2.387801800839782,5.733896277679267,7.122953203590989,3.935302076029647,2.3802471495246595,2.238883309281337,2.1432985031074936,3.174924292094304,6.351746786150607,-0.8104137697036866,2.6511004753057588,8.18503446481558,0.34212591507743295,4.34237919352402,4.075656169964226,0.23005501685075994,4.418010921661382,4.948703552144279,4.733210793756591,4.208524209621831,4.949632074858214,7.098562861004886,3.510262609658667,3.064053887482616,4.007264142986408,1.7153097264089887,6.059445509888413,2.9022361080842654,4.554782683088856,4.990602722107256,2.9853407894228488,2.7663691554494516,1.296198761293145,-0.9980689011161227,0.7652641160950938,-2.1509534707650446,-0.09333139026163642,9.087999672729355,0.9904537676266854,-0.2935465511324424,5.380940403074321,1.7000068856802837,3.30255094258339,-0.6746192857472636,4.648738874058783,2.176862881446353,4.759112153262021,1.6916079208106556,1.8123054033152093,2.7045961754620844,5.503705307348559,-0.361709191068397,1.4281675942508132,6.230896510694338,11.66871465645007,10.769242826210137,5.034811080108444,3.2882353871420404,0.6076079440339731,3.583563626651425,0.2524975741356456,2.775865570877318,4.396227951949702,0.6162808716416793,-0.43286022181076916,3.2139167614325683,13.056121853600278,3.110527692473697,4.956725569780408,0.8510142601945657,3.3341331986184417,12.894612120872361,-0.638880500003556,1.9191334190233102,4.643691314804809,1.4320694222372807,1.3526270221346501,2.1714160176593706,-1.9768403545318882,3.7820264567320447,1.3450204393480547,2.3999978489892633,4.100787720905011,3.38733076919593,6.149886190072177,5.494152803252212,1.2136346121665529,5.069661080146375,-0.9474878920486054,2.8193683433204058,2.9563018682934388,9.512669846679794,9.00716553311267,0.7588784809274353,-0.39001897966422266,0.3648761524736569,6.523116602008455,1.7796614876405001,2.611484895742976,2.4984388808524383,1.277027169392738,3.4731973420474156,1.2566751154947706,1.64946069643171,9.03658948121921,4.554590062160736,-0.22309260657457425,0.446544392860244,4.8089692471547645,12.285019749257923,3.372196592106727,2.5087663152294564,1.318068478836436,4.943581013408948,4.2980773290385015,1.8032470185000617,2.7555680017131934,3.2572546738020756,3.3163241136639403,8.403847122524175,2.6475686318788925,3.3502957900559096,3.7955656425355135,7.14384203557764,7.085010648025806,1.314099002513824,3.711649513851783,0.46047908635019524,6.39264992247275,5.255544948169183,8.733861520912695,3.6913178786249428,3.3782508698130798,-0.8402096563550565,3.284372613105943,-1.9087689285696663,1.61478192329846,6.619726348867272,7.67614947313945,0.3373454908233004,0.01743079070831195,4.9602681178934525,3.785060105322252,2.637255777768317,-2.3858827564793095,6.590235943000928,7.182933108780278,1.895316274923372,1.834840468694893,7.236485319755882,2.250510371688846,2.1078012193674467,1.785949980709918,3.3196739706063965,4.680166265592761,7.353218572368283,4.975162359550603,6.182283740671338,10.934298161156152,2.118496933373181,2.735011775020615,6.227025992791225,5.307140021250299,7.248001063804662,4.207220619248764,3.635014949231626,3.5192482756129526,3.765932154289207,-0.5429013641010668,4.7035007369871265,4.149097343626504,7.672141552553786,6.2896734662973515,2.76337078640813,-0.9340908135105819,6.003616593287481,4.949858464491718,4.54911114622615,4.442342816995024,0.6644409159356963,2.4723569140949073,0.981727543351355,3.2454136483202665,4.331653347588737,2.511753100860538,3.475493749391746,16.3192332268134,5.930964861521807,3.8244330429258926,4.754614869090233,-0.7417817668986404,3.103519704889814,3.7157051067891897,5.094841844824172,2.79039982748406,7.259178845482547,4.094142557105964,2.2269944947994254,-0.7337724520471466,2.697223751655152,3.3790146676064072,8.630755867564408,4.028435260120545,5.1654109516886155,0.5359319447070527,5.917612589574223,8.741338083513938,6.4393154838635835,3.793382370280683,1.2561792742008646,10.374794057425527],\"y\":[1.9485823781120453,-3.768172237109186,-1.0751737975478275,10.275588616832195,-1.9480719289381532,3.9499289278506495,-2.690031412895097,2.340243850381967,3.391813026378776,7.727174080252982,-2.6592755496166585,0.06656813418248245,2.7009760410650876,-0.9682794212113872,4.861083245200866,2.9770615969996586,-1.5647578563922855,1.418669858503072,-4.114333661656455,3.3049632202682675,-5.128366362481839,-1.5437522107685406,2.0186095027975948,2.1716243921381775,-1.8765525762051989,0.5372422722530064,-1.5237049625898893,-0.7571772756965532,4.005295292073752,0.33753651370630217,-1.1325887736400804,0.7584231785661644,-0.3543557139460422,0.9131964918455087,-3.3512929242856835,0.8862435699516954,-1.923991616409418,2.2607522822831037,2.018673657999243,0.9849298531698127,-0.13709915984083051,-0.1348767035193292,2.3522716475294176,-1.1309371345327857,-2.1164097309304424,-2.3103325033420434,0.9721160337363353,3.011680584186276,1.540676681106517,0.7227403339266061,-4.437141973092407,0.9383261418002584,0.11973890049969599,-1.9671016223862092,0.9200696433048394,4.748616689496269,-2.2579834874798026,0.7744094045645421,-1.6682373220431512,0.16221461060878217,-2.206662048696806,-0.5313522399033408,0.5580002176097155,-2.1235074192499157,0.6389114460646836,-1.3920442625494835,4.046756273964234,0.9815139248869328,1.569389531917097,2.3848461185264624,-2.3067352564396573,-1.3255574643131187,2.3166237559015355,-0.9113659166893976,-3.538081977500772,-1.4820170573977987,-1.0496037077194633,-1.1541410254286797,-2.8262605624981676,-0.4193875236732603,0.8603813202975018,-1.2747710428933527,4.8379881920317445,-0.37880329366084786,-2.91103777154713,-2.017652847324179,-4.165829764613045,-2.039039060093477,-1.7851523357334875,-1.6847535263452278,1.265102997503681,0.7064216108813172,-5.603484338936814,0.5810305128459006,-1.608532141601623,-0.9892424033628946,-3.57446121794422,8.011171648934614,2.7765872555037348,1.5614215179679123,2.2784825829425883,-2.443258353658727,-2.2778486719772313,0.3823929970951711,-2.102291211411457,-0.6551730003682049,3.0866395963800497,-0.7018215236977324,-2.787707505045001,-3.0291032211463804,-7.543409705725375,2.587825561686553,2.61464798271356,2.1544793452543276,-2.84832433511821,-4.666274795161494,0.16646117757185025,3.4657733540251914,-0.12520078039336474,-3.9391522266923795,-4.153905367088075,-3.951172728622748,-2.15457008051601,-1.0262326642328399,-2.0748420475630516,0.528223066733479,-1.7754258892774877,-2.8074769859340734,0.39416672512374235,-1.8230943294062951,3.894530837969127,3.279875795838522,1.0656460701156765,-3.3712275500921085,-3.500084610335382,-0.9906725927962371,-3.1219456623238746,-2.4745732105486367,-6.00327614864286,-3.075306139695705,-3.1443732536738622,-3.4593432755111473,-1.3411230752999108,-1.9019075350242298,0.5771548557977563,-0.8241158226532115,-1.484862369667899,0.05514562135309915,-2.392237960904971,-4.321523154627429,-0.03570231735964194,-0.3485356711499713,1.121974604389019,-0.2692217733817881,-1.577052875862479,-0.968593001627599,-5.242622919162381,-1.3325724139307593,5.108005439375876,-3.7032541779947783,0.2966287933817395,-3.945168382709708,-1.3901100755038398,-6.7234146659980265,-3.65546949878541,1.1762427207065524,-1.9564412738523407,-3.8586071613797004,5.9852952738261385,-1.317068164717271,-0.1959563054254501,0.7674886757682119,-0.8604841931888931,2.036547554544261,-1.0786335638972802,-2.1059453067355136,-0.09102946040903892,3.0060635752251166,-0.8160006267836193,-0.9924386698920606,0.4368606318526442,-1.4998245224127347,-2.2104300859981785,-1.778358702983649,-4.0493327280836535,-2.528807458291921,-1.672884467478351,-7.775852177516325,1.2282963343832056,2.3052362644438613,-1.4894234810545195,-2.452034737670515,-1.2361532559768518,-1.058686487535054,-2.0192079600559056,3.3855608704826863,-5.495735917782722,2.8029272577449613,1.9416340933649434,-1.9436970946883785,-1.9437097010715951,-2.3334288713929316,-3.459452539828591,-2.941430013249662,-2.382203572457166,0.3807154666364492,3.482636269669172,-0.5738554155531831,-3.576817700761655,-3.584047822335159,-1.9022965285434306,1.6720102514580975],\"z\":[-1.123144878693908,-0.5292785800872306,-0.5517485388903789,-3.2327745449208747,1.3897763506402605,-2.934878062546806,-1.6399089823570305,-0.8719422808805197,-3.1199880848964248,-4.341918600280616,-0.48882814508252304,-1.5264611723694583,5.730244915426315,1.7171759398196083,-2.816114582002645,-3.125287222579705,-0.802515344866378,-2.2703046751300513,-0.3147447559834511,-1.4665215437115704,-0.7524051430592856,-1.7131948254587444,-0.028986268709301134,-3.894526291954582,2.5817537577983454,-2.761628339289664,0.14618562012125288,-0.3492453249389753,-3.0014559014900115,-0.7543121504661126,-2.5773877073129516,-3.493760217347886,-1.8969697006829391,-1.5757759012324735,4.305573289523273,-2.7049087608006657,-1.180484123679316,-1.9047348483993283,2.1412110390022665,-2.3107284811243662,-3.3019303446034662,-1.6788509797762028,-3.0780863505412106,0.8263721442030173,-1.3962194778750956,-0.7288094803695446,-1.9438885850995247,-0.16624254224513677,-1.799849189818863,-1.466253717325502,0.3073519544490004,-2.210153099414268,-2.0409505067022278,1.1119447851449762,0.08982439069584593,2.0058956251270863,0.03885364375302598,2.6823296683054436,0.146939174609116,1.6373722152577177,-1.7045304356874762,0.5893477908340687,-0.6057625414481655,0.5795014420318028,-0.1999126349509674,-0.08272072216310869,-2.715387879153824,0.5987937743095472,-2.613935768043873,-1.935104891591807,0.5674578539555579,0.7280164741368417,6.328659388351909,-2.1427267998359576,1.254913207359143,-1.1706842080542696,-1.2620192198634779,-1.209805541977408,-0.5621117929743384,-0.38057302089273815,3.6710081135712396,0.5558464511407077,-1.0281390332926295,1.4463022319032974,3.007256045218478,-1.566141254150176,-0.6012473288353872,0.9806987259217592,1.1736467264950599,-0.3511867467468559,-2.1531410906783464,-1.042329078362501,-0.6372345937114812,-3.1346982077444228,-1.5151079822441718,-2.585167602901127,-2.223978409075014,-0.3264816681962989,-0.9427657495710643,-0.21818078863648976,1.3194865578138883,2.466299376802383,-1.238690123072019,-3.8383122772715366,-0.9752677790565244,0.22128446455050468,-2.270415886400103,-2.270761252499587,0.44437475659932263,2.7440259358349177,10.112406161362308,7.0920719160543,0.20639403200463755,-1.7866278007311243,0.9138753813855739,-0.0068502556778246414,-2.6286060113368435,-2.474044575378034,-2.89609021668783,-0.20545455538315227,0.046987897487617836,1.3718752276420532,-1.10894253931958,0.8986364876409015,1.0883810561148386,-1.2799850897708187,-1.6726309398744676,-1.7561970915707465,-1.0047111345099082,0.479854985925634,-0.8338505100474651,2.9037468453728144,-3.5155900011839356,-1.7667874592835358,0.18247211863324117,2.5543685765012847,-1.0630597784993416,-1.9911389740703047,0.9893726337434199,1.481956371340224,-0.11572749035695502,0.306919793151534,-1.4570526248224698,-1.7442377459185257,-1.9946962101412993,1.983970499026873,0.3613377513936252,2.0129315889769472,-1.6764929925113687,0.316690571959706,-2.841051521031658,-1.0647585227495868,1.7751380650468365,-1.7225117164753345,1.3607289138586929,-0.291269553842199,0.3169491412378335,0.8709837700179291,0.5211404503015618,-0.8916900317562191,0.8674926567469358,-0.017164163230411686,2.734248608268953,1.4856569484138853,-0.15569159246865857,-1.5900142460362185,-0.8287653234959961,-1.02252757040038,-4.880359182804572,0.995760685305632,3.7570483874012743,-0.8879698585057626,-2.1536491354364564,-3.182087637554692,-1.1796225543287469,1.4329084862849601,1.7112085475765595,-1.7540567428297498,-0.5187524870586256,1.4423129594507358,-2.6807758938964676,0.5914465102433901,-1.6999152842892424,-1.793152317528242,-0.19249641597698694,0.7981984168293934,0.8568293099861484,6.235397714043824,1.7215972036192304,0.0275474656152679,-1.2537537189481944,-1.9977156749251512,1.2873565936411475,0.5219616031102783,-0.7093662358088209,-0.7530798085456647,1.9109330638054152,-0.5074336769316218,-2.285584716478415,-0.27523814965315496,-0.9605717098444073,-1.2019341681095868,-0.1790376589732301,1.6594828248118778,-0.4222672955196989,-0.4431449175529594,-3.262782515561117,0.8971110352702675,2.459492499289262,2.0884753366018467,0.5627251120564795,-1.877033907977334],\"type\":\"scatter3d\",\"legendgrouptitle\":{\"text\":\"Type\"}},{\"line\":{\"width\":0.02},\"marker\":{\"color\":\"green\",\"opacity\":1,\"reversescale\":true,\"size\":5},\"mode\":\"markers\",\"name\":\"Malignant\",\"x\":[-1.2370633571410108,-1.5781612356262102,-3.557336367570342,-3.7493133935978395,-4.5819366693836034,-2.1364452837035808,-1.5674789962183455,-3.5429055573825607,-3.157814045664991,-3.4504885401446175,-2.8581584411213328,-3.7214589964236766,-4.135962938950073,-2.3858356694765086,-2.5788832597039053,-2.31413224210134,-2.7859247552557154,-3.5186483381384863,4.330002648353276,-3.2612794759709,-0.3078557774883381,-2.6299766405587395,-0.8345178917227597,-2.0215776624803543,-1.6383849370995789,1.1674616110589995,-2.1744643145764937,-0.9341581016525969,1.2596046403837855,-1.588263974683353,-2.847431583051528,-1.9649501179738171,-2.592082826032571,-3.9043381503732104,-2.8182312096093245,-4.555028840191086,-3.4481835397339853,-2.115960266572686,-2.691352208086655,-0.7492713599107437,-3.15900603579667,-2.228679811027857,-2.4928310331248706,-0.10335041763877552,3.5912941235420877,-1.348948678480399,-2.510117673260399,-2.0460295782536915,-2.097069160451176,-2.965999208652318,-0.7707436782007719,-2.2025155230405646,-3.1434122463701413,1.4088683624362244,-1.8774673677876401,-0.7091148311450188,-2.6007895078203305,-3.258007361733436,-1.9920347257980033,-5.015008692881705,-2.4559688134191933,-1.8372816657988003,-4.346489712746211,-0.7328129207762283,0.3930986608498843,-0.4123278116901254,-3.049924942434211,-1.4425637369978381,0.0831861028516911,7.093306704282713,-3.743404542533157,-0.9691728141745585,-2.4187199064190326,-0.7516030056700874,-3.6546465305448885,-4.680211574735449,-0.5977817709001679,-1.3250313469876722,-2.9974032104262776,-4.386732720524599,-1.9777014432991953,-2.5148764201622162,-3.4839862921780202,-4.658729578966031,-5.351618113901376,1.1708977723438303,-4.975702060672266,-4.06402565616649,-2.6593596159686554,-3.8890655292622016,-2.835890915662615,-3.310283625559558,-3.3573044058170813,-1.7177351761803639,-5.565735893081139,-2.8190385091136205,-1.4734313709815343,-0.781189967781205,-3.4548953889982985,0.3144382303810672,-2.0591919425175207,-2.99871053034497,-0.38875629954097474,-2.7569329921312296,-2.3735018029273345,-0.9671903153646411,-2.975798787661212,-2.478359512356902,-0.8260392955032798,-3.894697330766553,-0.3895780904203815,-1.457321356307674,-4.019140242478351,-3.6764132945058754,-4.036607356235327,-2.3342333504161266,-0.6817688638706241,-2.2277205207351694,-4.4775846550085925,1.3226214173736643,-1.8500898653966569,-2.2813180963998416,-3.2287701172811647,1.025900781752084,-2.5825558387298218,-2.4858832274144826,-3.032481141136779,-1.4646759340183704,-2.012152427621431,-2.2843402584090557,-0.7397430913969665,-4.506562507799547,-3.1587543016573476,-3.6391359639657335,-1.276583381948621,-4.346014058249877,-3.4924260375139125,-1.8665488550299416,-2.470722674968798,-1.3726850206557262,-4.138882574538504,-0.6869402912009255,-4.312129580532706,0.40330942689439747,-3.0036057949876045,3.1340081836938527,-0.41783686662341235,-1.4202231354874044,-2.870588347601442,-3.3658457037845055,-3.315000155443421,-4.769710160243126,-2.787096006401095,-3.3938417678421344,-1.4553305173925053,-3.5788354030767007,-3.0570326427540837,-3.0744358300608146,-3.8535397358308368,-5.390256381370421,-4.657682334897199,-4.027542390803717,-3.3478219392525235,-3.299842010721794,-2.1364041435065646,-4.0380171413801085,-3.765414551757017,-4.871239384820377,-4.747248515406657,1.5729311543681206,-4.026620250081046,-1.2948661706674132,-1.8103805630340855,-3.1456501881173815,-2.8872680621187166,-3.1496539866242914,-4.628379479369678,-0.5276966195807393,-3.213500983928334,-4.38642296576339,-3.8100178674730145,-2.393275961365973,-3.0676951420316776,0.29531318277080953,-1.938969493450597,-2.0771789175935464,-2.1769168814758832,-2.43155145212694,-3.367965777560413,-1.206597788619516,-3.3260792462112367,-1.9287954084350019,-4.041835087844807,-3.012194968792314,-0.9826485777424658,0.357893859378817,-3.193917864467667,-2.9932332937697534,-3.1939141475354313,-4.591961855171266,-2.485916157812078,-2.398665346828191,-0.7796152022415924,-3.1399884266528595,-2.223775747611718,-2.4996363734068594,-2.6149483089244714,-0.09610811287332026,2.044856943122781,-3.0667495257545245,-1.6035864473450054,-0.925566605996245,-3.288349590273707,-1.554852143709709,-0.39877992475763674,-2.300567824323043,-2.058819456157301,-3.424518053814675,-0.4724065532626032,-3.6433802386067704,-3.594689346266102,-2.0103794157736687,-2.9208334907735853,-0.5007378024264171,-1.911498576222801,-3.785099226779539,-2.7083939727045565,-3.4307706952267414,-2.0013884670133852,-2.4732930953895504,-3.6472577445239946,-2.3461868475540735,-1.142996926622509,-1.3508573076094412,-1.9693236075607121,-2.931187056364455,-2.9263743883839903,-3.9961882759583545,0.15513805910401984,-1.9296217317869393,-2.6223386020474204,-2.92187780344402,-3.3419448065306994,-2.0149150324072886,1.9884621109044942,-1.6696039322881135,-0.3711781136192139,-1.8489599281359705,-4.703042198071386,-1.2831871508030086,-2.314246821152496,-4.6590851725802525,-3.943473381017783,-0.9158035192867352,-2.1949843030658753,-2.240876051951759,-2.1251804346097742,-2.615317411879664,-3.2109679730676266,-0.30675039547235505,-3.4547183733442743,-3.9005268467448406,-1.2572515657311982,-1.557219413465993,-1.249258097268045,-1.0774513287482683,-2.2170923070878366,-1.1738306498992046,-2.8363014441010854,-1.8570858988669083,-1.3286143736138238,-2.802771360291049,-3.1745687995216096,-4.087077360022472,-2.5601150185167585,-2.9688887970493747,-2.757430449403581,1.3703398686255883,-0.4176644932002194,-3.8383986196078363,0.6454786517444493,-2.683846400489959,-2.0416640540641064,-1.3992963496555972,-3.5364152958165156,-1.990529451231715,-1.9981853694948024,-0.5206581120945474,-3.1723704870298133,-2.202710192773187,-2.9854846901660412,-2.481055107865273,-1.2721114598236924,-2.235156888743823,-0.05618310466600714,2.3173906065334715,-2.284331264694218,-1.7263109196340276,-2.8943106608002247,-1.6545218442631897,-4.064270592730002,-2.7933306555372996,-1.4749199376349553,-0.2293946365891907,-2.553258406814722,-0.6006161080418189,-1.4087712154152492,1.2988665467768636,1.0766932882987728,-1.2497605275862709,-1.2569284025288003,-1.1665352140836545,-1.887639237033591,-2.767435703547918,-1.131576896102826,-2.3336707376817456,-0.1998705789895589,-1.176025916201465,-1.2926365376880808,-4.4294563691539395,-0.6198387357833888,-3.252315764487372,-3.352927052061791,-0.8598029886829363,-3.1566219697687505,0.34652811149081925,-2.4614066517608437,-1.5301007183942972,-1.77358507042275,-2.6804416230808616,-2.1363512281860637,0.3431233840941868,-4.1970799809520685,-1.1428318610836241,-1.665475152206997,1.0117124919525906,-1.3009297098068187,-2.373428724212459,-1.6658710101128025,-1.9276781962861276,-4.237216619731518,-2.6778707196262883,-3.8364978503474108,-2.5514402940042,-4.694923443577348,-2.0250371685412834,-2.895948204775374,-3.502201037478568,-2.153903669460616,-2.0550840664556493,-3.8772895789683477,-4.063862114665661,-0.0986673330875516,-1.0893761878829022,-0.48177096665472396,-4.8703095182843175,-5.4752432954618575],\"y\":[-0.18821507618060365,0.5728085888711224,1.662949379467111,-1.4134733960625956,1.4842200964129848,0.09583019671326005,-1.2084333551888065,-1.2824956038319062,-1.6889590104167316,-0.49821910517665313,0.15272309509004192,-1.7876414163932053,2.403792163431435,2.757658563680492,3.1386728981476044,3.267988934243675,2.3106486351540045,-0.6583098230423308,9.202526309498701,-0.9378379400101692,7.387812648619684,-0.6973091699520926,1.9656056701678792,-0.2548993939827609,1.7159493076556986,2.5145157810834196,0.49687849068313,0.9277010928897897,1.0155777163894981,-1.6196565625057815,-2.8936480227889634,-0.9651564041519315,0.21363376110965912,1.1900666055131477,0.36788361243036044,3.5287861816127752,-1.4246226408016327,1.8493737048737282,1.420062125431179,1.7976388535899563,-1.0357494768486848,0.6674104242078075,2.5986860764750817,2.2801427606981095,3.92633266968882,3.5562249445505194,3.251319419088698,0.30488540503240424,3.667095503281537,0.37150663912702847,-0.06410914915331761,-0.7356053408970878,-1.8774087930858925,1.3049294845803243,1.423231071889144,-1.568232450011082,-0.48233513970141606,-0.418321210263814,1.329355541747132,0.5747002123576277,0.8984556941242969,-0.09102703394923993,-0.8935722218333004,3.702182916989763,1.0830683035771191,-0.3896314596142414,-2.2377842801051497,0.3058710341788213,7.150359609218533,12.573195255737934,0.25050148471624506,0.944944249922715,0.0055522596836353865,-3.070648433003007,-0.674648602218576,-1.1038574968114114,1.785651233359306,1.469294100042332,-2.7388606946657466,0.006872245153512419,-1.8427789891157145,0.11425234942788014,1.6196913680569267,-0.22291469768220146,1.0267576774783147,7.014487109364311,-3.386205025957332,-1.2461664496275546,0.5399359505182018,0.8160718481824506,-0.3987300049937458,0.1557417017979111,-1.103732124800737,-0.5431657575948198,-0.47784824474366644,-0.9701106565053064,0.11689027669352678,0.6528492967446616,1.306938992844933,2.077560509759141,-2.4727878309603164,-0.3967778142445188,2.27679810590291,1.0868348390570794,-0.7334023609753991,0.4384386001081664,1.8109737772644134,-1.418576538854252,-1.2502472390061399,0.5385710164068824,-0.6144154172671565,-0.20172694719786732,-1.354247217284367,-1.291629025857368,1.1625453846729605,-1.3489796523816975,-1.1359912593608112,-1.2149996033859067,-1.7411293902309397,4.789476749339988,-1.5841277101974387,2.0776855971320125,-1.1720735155972832,2.3612622719818908,0.7292132939024205,0.4605964908415932,-0.6494688128041108,1.6866318739640358,-1.1034865253956363,0.009494356276564739,3.1525212688539406,-3.1692728531693204,0.4103017234832357,1.5895865972237817,0.8490528842961348,-0.32197764043536314,-2.634082316056543,-0.902064052597708,-0.13802733379757498,0.005805265657828387,-1.3765080788505606,1.6950095242638805,-1.9784864077452853,3.7234335866591186,0.35416007376450587,4.273461194229619,-0.8085766946332414,1.3939780281680487,-0.2686445738686493,-0.8076004828048144,-1.4421760732645266,-0.5429619527987022,-2.533034274814511,0.7539636298561483,0.5919428128155876,0.8915829943664582,-0.17921326530351003,-0.3060585648909913,-1.5247261062074002,0.5562543505683079,-3.065387367445264,-2.5429068535159054,-0.0685631426714676,-3.138709424542334,-0.004392751893659738,-0.2406979860696216,4.398200115261121,-2.339214640477406,-1.798402065116747,6.5090983199659185,-1.4022069413658471,3.4708086199109895,0.3962077877068125,-0.7425264921327336,-0.46473118144198744,-1.7712481156596211,-1.8356186568372734,1.2658719109988696,1.1034435108481326,-0.7611037042509767,-0.9099187063594569,0.9900306679945743,1.1358377394030155,0.22693516011719791,2.544987816122767,1.8065191862876941,0.9589114097361328,3.4472036592128976,-0.56292897638866,-1.3170445556298893,0.4751712750612749,1.4614705750493726,-1.3569178148045529,0.24375978958604164,0.7972520880980128,2.127838924157831,-1.8491520744685905,1.6313913743410149,0.5793392690257851,-2.7611270532812355,-1.1889390258760635,-0.250744596056252,-2.1243430637801466,-1.4880220571871714,-0.35716049883676865,-2.0185356700978296,-1.102474285514913,-0.12984782695355018,6.426819199292532,-2.182095759989664,0.29259647701031083,2.302481638132316,0.2013110397243166,0.979857036238166,2.1612133450927313,-0.9320773608936276,0.3204350644609721,-2.445518475985206,3.7028296015581614,0.7868599676505247,2.6050874299820452,0.42968989693558246,-1.7004727927358443,0.1067316385824115,-0.6513938635429327,-0.3261465434659185,-0.21966530020797137,-0.9926096974509646,-0.2933262735659665,-0.3350467702184042,-1.2413654167331978,0.6827410448305056,-1.962171388508321,0.3695742563964055,-0.1758482730011528,-0.4948561040550475,0.377332562935072,0.9598560053782818,-0.43800824133117267,0.8924669780724841,2.5021015888153677,-0.00921293703946064,-0.022224398508647263,0.7784521208216183,2.3160478373340676,0.8623190083516495,0.11361254016722411,2.5412294476322503,-0.4323028142391577,2.550909441433496,0.40203166222751735,-0.7822991796903132,-2.0300163897098624,2.4790133215035497,-1.8053529864530051,-0.45458954837916526,-1.1947971491538683,-1.8320603306579761,-2.2351430210764778,2.1849985383351576,-2.1364613405521133,0.7307757206107461,1.0676909951201157,-1.0379268568819064,-1.5888386976224274,1.8036179905364367,0.029891411097664567,-0.47483936878026106,-1.018125864734458,-1.5713931194617563,0.7770958624114112,-1.6663013126280413,-2.0757333890426457,-0.48471025039424137,-2.4940454096554205,-0.06884709777982065,-1.7939190435757086,2.110011920056535,0.11651970428231063,0.8991783218734806,3.426011100750017,1.4435554127510812,-0.9032559187745238,-1.7722263389223742,-1.2468541659665073,1.8994629723234964,-0.20637093719383684,-0.9733676914183849,-2.089052458614693,1.2860397863040571,-0.6733390838567818,-2.363958745438788,0.509833725984936,-1.2987043421626583,-0.2273833573734591,4.38913447096072,-2.4668403348680754,0.9981779887756818,-0.9779442792781122,-4.555664215962177,-0.5609548914234379,-1.0778882498561855,-1.5910941789795323,1.5159033720889805,-0.7639004929337128,-0.8384550401706659,1.5057708467115425,7.7298532984387185,8.29477439895824,1.5956842596881242,4.1171863037749805,-1.6656938618617283,1.6721912050592413,-2.1610487727753673,-1.4110014761062368,0.7901467759166458,1.0763601715524025,1.0113705829532178,4.964224833742069,-0.7860361352215988,0.6363489427482234,1.2859248258632763,2.6733004454121763,0.09684892865018922,-0.8715425552664425,1.5412254892073285,0.6008481683829735,0.40521759958345005,0.8042105188599217,-1.4847088266809785,1.51858073781354,3.5344811060806145,2.367391534259052,5.5994584457500505,2.3896182715815724,1.0923899628376805,-1.8214155511733299,-1.6815762672154064,-0.2139626677187311,-1.1377394725210337,0.18427269668432927,2.315792565958216,0.49624967329796604,0.22832983749222285,-0.767478196757171,1.2612423386411211,-1.4516358585756448,1.8008321204263127,-0.8300686690166411,1.616458985575013,1.0842547985449813,0.1221682483472769,-0.2135596002472477,1.2928477205097266,-0.1780196026274612,-2.131106113966705,-0.6706377482178468],\"z\":[-0.5932805925217661,-1.8014566985602252,0.451202988327392,1.7323154764787603,0.04208150624057167,-1.4924291822673084,-0.3691551790907954,1.0182116132529626,-0.49628156131619805,-0.1525069609376318,0.42893535332395977,1.2799253661799204,-1.2429482801148521,1.214071913344128,1.4002529333890712,2.7962459207799744,0.4727277717359457,0.5913843702883075,1.4929467116996347,0.20512403112973196,3.8190718863234228,-0.5839473765941094,0.7904081495410262,-0.6478846577285614,0.4342015821523039,-1.9057170201939446,-0.9491065136866228,-0.0401529809930767,-0.08061178196029645,0.3099915254731352,0.5280011532756951,-0.08122461431101112,1.0356162806251465,1.5519816550563594,-1.3514249305888528,-0.21526777907911648,-0.08871882929193091,-0.556677520127709,0.969139917339956,-0.5683757117954925,-1.4906821283280705,-1.0915539723980343,1.6697315438623497,2.1095858221552555,2.0470210340820083,1.732197109752257,-1.6876213348906401,-0.533854474350137,3.632214331869327,-2.0665378585946286,-1.1344109529401003,0.26708322510246857,-0.6703751115342519,0.6414266028432749,-1.0708246239533568,-0.6699907059507004,1.8723629008992548,-0.6918113516698063,1.1352340041675613,-0.8424452767684183,0.3531224689069023,-1.4452725057886073,0.6392549064104848,0.6584899307382085,2.2475981754940433,-1.0457663817315834,-0.46945979850446384,0.5515308656789039,-0.06000561498513085,7.35867775839386,-0.09738201741489995,-0.8908099896776244,-0.7983759335710664,1.449176088912752,-0.9069905180682643,-0.25730144069531985,1.4817252489654025,0.8484195451348935,-0.16119410365842352,-0.9481069881811526,-0.27737198015160514,-0.496624583593716,2.675486969432462,1.5593554291488125,0.32499084893699426,4.271846181671774,0.43984296506721765,0.5744856139596016,1.7070109150107478,1.015713058274947,-0.3474363302811764,0.5414642824592101,0.15208121903938748,3.2983807739916426,4.1274817497066465,-0.3825890475737028,-0.21466910011637283,-0.6436583184420044,-0.029272473529316355,-2.0833046045754275,-1.4617177548651048,-0.5964720922298178,0.627326668673714,1.7072340151246308,-1.5260328962392173,-1.447708172561521,-0.22343523894905634,-0.316531028362179,0.26795367232391815,-0.8815665488927592,-1.3528706113840365,-1.098874072629837,-0.36047763719011583,0.4246086820140151,0.18976806354648035,0.2326849042483112,1.2336706482432023,-0.1924166874290383,-0.888206129117719,-0.6625401521734557,1.2639040843056477,2.430659564576031,0.2646656108574523,-1.616896476687519,-0.5481478527028256,-0.5989234079157768,0.31068289244394365,1.1699044274650447,1.338023757738566,-0.4504600338360289,1.4698390938537862,-0.18805386775536734,-1.1088155921727074,0.7162925717872658,3.0700691201142316,0.38846268378379617,-0.07218976644836847,-0.8711731672010506,1.7949161452168125,1.5492955159623139,0.8780440342583835,1.026215471427133,-0.2512987541535849,4.58648202285746,1.2340188347903394,5.866230178746113,-1.0932884041096909,-0.8369852500141787,-0.46898547915764915,-0.8070824196313622,-0.5836367253442915,0.8938700920995757,-0.8840263684257578,1.771803170513079,1.1463420257337475,0.2614874156536725,0.6217702510507493,1.2592575862684705,-1.1445187615098449,0.5601039831051421,-0.0760108793029461,0.3532112379526073,-0.2701899440957777,0.14889350152124886,-0.055141822124300875,-1.3281282596675807,3.9502176516115566,-0.16829899106442864,0.1697228208519499,2.1671897170913437,3.186512723814559,1.1095282740783836,-1.230347880282489,-0.8623524692109046,-0.47575595314600416,-0.03584184212042779,0.06423990275830478,-0.9204492052776926,1.6119705530763453,-0.4005976458205962,0.443172424935253,-0.7575061453160722,0.37461776474404324,-1.089419829620606,-1.0014146634696561,-1.167070345709183,-0.23426956571855434,3.4569514312286462,-0.19257113270895881,-0.930734665294846,-0.89827719647152,-0.10066434311393033,0.5383513901513457,1.9837383835341909,2.369430402801296,0.7082004988510271,0.09939883413173152,2.556741876122678,0.48976992409447756,0.9805408286491428,0.3487660274926697,-0.3271428181128293,0.32077889170671003,-1.1988814964882772,-1.101688355680768,-0.7312732268625786,-1.2407411412817968,-1.6714566360209526,1.2741406756204634,-0.27906038296846425,-1.586233676537469,-1.5961182396708091,-0.6277471234554935,1.1965795858248451,-0.9456244668170378,-1.1299600261967315,-0.12245665511821537,0.04505094818035446,1.9537802596851344,-1.1621469003276017,1.8520232769134366,-0.10409782966860412,0.29573688002780546,-1.0287531841802262,1.4502876513164449,-1.0580755391802976,-0.31451761384165694,-0.7317045300826241,0.6191991368222022,-1.4823689079395186,1.3866325134506392,1.1327422436238994,-1.240722368974495,2.48666510377405,0.4207246040531481,-1.017074207037556,-0.8868023488126606,0.2044068448396272,-0.46144578144084525,0.042337175245766315,2.4349999748126208,-0.9012969336052333,0.5032918742162044,0.12557943829497265,1.2363119797347761,-1.0103106196355478,-0.9983607660135283,2.0053533172969593,0.005316277261961642,-0.08386351713354837,0.2746178813424804,0.1921339700484536,0.6917386915922654,0.36260194748427393,-0.4351164700373243,-0.4655259006138435,0.49037880689548835,0.7643267767980909,-0.16621554576932707,0.03929513828717589,0.19715705585241067,2.1360775476757445,0.2594903086554129,-1.301251702798529,-0.32641596603959105,1.7810465145074996,0.6364563252847106,-0.4815757777057341,-1.4866284987399312,0.8264826957864136,1.2567530478382638,-0.19402787085394674,0.07489342208283815,0.6313686449590167,0.1703114025873865,-0.7784129998485911,-0.7578064269277659,-0.8537374934721954,-0.5361429546844897,0.7005736242456203,0.6082948465936494,0.3394064949632557,2.8432401592251604,-1.4795591563735198,3.385411124872201,-2.031010680676735,-1.6413310521736497,-0.32413798014686207,-0.978801336947109,-0.8874125496561335,-0.5904936099999135,-0.4326152437285906,-2.2389881272769583,-0.9014409602108582,-2.2555166703005716,1.7784079903809349,-0.8212004820269673,-0.08024309188454708,-0.8056451347239608,0.752326143042458,2.176703391857788,0.8445459014939898,0.3199908802503793,-2.2162817400476262,-1.609402454915341,-0.6870301838682344,-0.3539027295557061,-0.6889277224699455,0.43422403643548946,-1.3564859693304527,-0.4127194844087,-0.7378749943459373,0.11981258350639154,-0.02109711516226364,-0.5650675110006164,-0.3500478293473136,-0.6731521815311368,-0.7117796655593558,0.34592453415675556,-0.47341586561528665,-0.48884113423954967,-0.21846621752763745,-1.7790827592378546,-2.8140558470722805,-2.195716925955438,2.8464477263052452,-1.1714703893114677,0.6044710141535904,-2.0279324147994977,-1.7416947822098459,0.17896313613985118,0.06966801713573095,1.3271654017886412,1.3010394553538693,1.502246424118637,-0.6327078318141854,0.37331445698940957,0.38452924992799103,-0.14807347446887803,0.4781896810519376,-0.32642416468083196,-0.05384132191860229,0.9232465495318377,1.4141819802647335,1.5439718420613135,0.504913342098911,0.7805485868086212,2.7664670192215004,0.56479204850092,1.8389669420367016,1.8599428927542532,3.2387773078494035,0.3889235632523186,1.4293842456172894,1.0321045088170866,3.4141889231482607,1.490470050588203],\"type\":\"scatter3d\",\"legendgrouptitle\":{\"text\":\"Type\"}}],                        {\"template\":{\"data\":{\"bar\":[{\"error_x\":{\"color\":\"#2a3f5f\"},\"error_y\":{\"color\":\"#2a3f5f\"},\"marker\":{\"line\":{\"color\":\"#E5ECF6\",\"width\":0.5},\"pattern\":{\"fillmode\":\"overlay\",\"size\":10,\"solidity\":0.2}},\"type\":\"bar\"}],\"barpolar\":[{\"marker\":{\"line\":{\"color\":\"#E5ECF6\",\"width\":0.5},\"pattern\":{\"fillmode\":\"overlay\",\"size\":10,\"solidity\":0.2}},\"type\":\"barpolar\"}],\"carpet\":[{\"aaxis\":{\"endlinecolor\":\"#2a3f5f\",\"gridcolor\":\"white\",\"linecolor\":\"white\",\"minorgridcolor\":\"white\",\"startlinecolor\":\"#2a3f5f\"},\"baxis\":{\"endlinecolor\":\"#2a3f5f\",\"gridcolor\":\"white\",\"linecolor\":\"white\",\"minorgridcolor\":\"white\",\"startlinecolor\":\"#2a3f5f\"},\"type\":\"carpet\"}],\"choropleth\":[{\"colorbar\":{\"outlinewidth\":0,\"ticks\":\"\"},\"type\":\"choropleth\"}],\"contour\":[{\"colorbar\":{\"outlinewidth\":0,\"ticks\":\"\"},\"colorscale\":[[0.0,\"#0d0887\"],[0.1111111111111111,\"#46039f\"],[0.2222222222222222,\"#7201a8\"],[0.3333333333333333,\"#9c179e\"],[0.4444444444444444,\"#bd3786\"],[0.5555555555555556,\"#d8576b\"],[0.6666666666666666,\"#ed7953\"],[0.7777777777777778,\"#fb9f3a\"],[0.8888888888888888,\"#fdca26\"],[1.0,\"#f0f921\"]],\"type\":\"contour\"}],\"contourcarpet\":[{\"colorbar\":{\"outlinewidth\":0,\"ticks\":\"\"},\"type\":\"contourcarpet\"}],\"heatmap\":[{\"colorbar\":{\"outlinewidth\":0,\"ticks\":\"\"},\"colorscale\":[[0.0,\"#0d0887\"],[0.1111111111111111,\"#46039f\"],[0.2222222222222222,\"#7201a8\"],[0.3333333333333333,\"#9c179e\"],[0.4444444444444444,\"#bd3786\"],[0.5555555555555556,\"#d8576b\"],[0.6666666666666666,\"#ed7953\"],[0.7777777777777778,\"#fb9f3a\"],[0.8888888888888888,\"#fdca26\"],[1.0,\"#f0f921\"]],\"type\":\"heatmap\"}],\"heatmapgl\":[{\"colorbar\":{\"outlinewidth\":0,\"ticks\":\"\"},\"colorscale\":[[0.0,\"#0d0887\"],[0.1111111111111111,\"#46039f\"],[0.2222222222222222,\"#7201a8\"],[0.3333333333333333,\"#9c179e\"],[0.4444444444444444,\"#bd3786\"],[0.5555555555555556,\"#d8576b\"],[0.6666666666666666,\"#ed7953\"],[0.7777777777777778,\"#fb9f3a\"],[0.8888888888888888,\"#fdca26\"],[1.0,\"#f0f921\"]],\"type\":\"heatmapgl\"}],\"histogram\":[{\"marker\":{\"pattern\":{\"fillmode\":\"overlay\",\"size\":10,\"solidity\":0.2}},\"type\":\"histogram\"}],\"histogram2d\":[{\"colorbar\":{\"outlinewidth\":0,\"ticks\":\"\"},\"colorscale\":[[0.0,\"#0d0887\"],[0.1111111111111111,\"#46039f\"],[0.2222222222222222,\"#7201a8\"],[0.3333333333333333,\"#9c179e\"],[0.4444444444444444,\"#bd3786\"],[0.5555555555555556,\"#d8576b\"],[0.6666666666666666,\"#ed7953\"],[0.7777777777777778,\"#fb9f3a\"],[0.8888888888888888,\"#fdca26\"],[1.0,\"#f0f921\"]],\"type\":\"histogram2d\"}],\"histogram2dcontour\":[{\"colorbar\":{\"outlinewidth\":0,\"ticks\":\"\"},\"colorscale\":[[0.0,\"#0d0887\"],[0.1111111111111111,\"#46039f\"],[0.2222222222222222,\"#7201a8\"],[0.3333333333333333,\"#9c179e\"],[0.4444444444444444,\"#bd3786\"],[0.5555555555555556,\"#d8576b\"],[0.6666666666666666,\"#ed7953\"],[0.7777777777777778,\"#fb9f3a\"],[0.8888888888888888,\"#fdca26\"],[1.0,\"#f0f921\"]],\"type\":\"histogram2dcontour\"}],\"mesh3d\":[{\"colorbar\":{\"outlinewidth\":0,\"ticks\":\"\"},\"type\":\"mesh3d\"}],\"parcoords\":[{\"line\":{\"colorbar\":{\"outlinewidth\":0,\"ticks\":\"\"}},\"type\":\"parcoords\"}],\"pie\":[{\"automargin\":true,\"type\":\"pie\"}],\"scatter\":[{\"marker\":{\"colorbar\":{\"outlinewidth\":0,\"ticks\":\"\"}},\"type\":\"scatter\"}],\"scatter3d\":[{\"line\":{\"colorbar\":{\"outlinewidth\":0,\"ticks\":\"\"}},\"marker\":{\"colorbar\":{\"outlinewidth\":0,\"ticks\":\"\"}},\"type\":\"scatter3d\"}],\"scattercarpet\":[{\"marker\":{\"colorbar\":{\"outlinewidth\":0,\"ticks\":\"\"}},\"type\":\"scattercarpet\"}],\"scattergeo\":[{\"marker\":{\"colorbar\":{\"outlinewidth\":0,\"ticks\":\"\"}},\"type\":\"scattergeo\"}],\"scattergl\":[{\"marker\":{\"colorbar\":{\"outlinewidth\":0,\"ticks\":\"\"}},\"type\":\"scattergl\"}],\"scattermapbox\":[{\"marker\":{\"colorbar\":{\"outlinewidth\":0,\"ticks\":\"\"}},\"type\":\"scattermapbox\"}],\"scatterpolar\":[{\"marker\":{\"colorbar\":{\"outlinewidth\":0,\"ticks\":\"\"}},\"type\":\"scatterpolar\"}],\"scatterpolargl\":[{\"marker\":{\"colorbar\":{\"outlinewidth\":0,\"ticks\":\"\"}},\"type\":\"scatterpolargl\"}],\"scatterternary\":[{\"marker\":{\"colorbar\":{\"outlinewidth\":0,\"ticks\":\"\"}},\"type\":\"scatterternary\"}],\"surface\":[{\"colorbar\":{\"outlinewidth\":0,\"ticks\":\"\"},\"colorscale\":[[0.0,\"#0d0887\"],[0.1111111111111111,\"#46039f\"],[0.2222222222222222,\"#7201a8\"],[0.3333333333333333,\"#9c179e\"],[0.4444444444444444,\"#bd3786\"],[0.5555555555555556,\"#d8576b\"],[0.6666666666666666,\"#ed7953\"],[0.7777777777777778,\"#fb9f3a\"],[0.8888888888888888,\"#fdca26\"],[1.0,\"#f0f921\"]],\"type\":\"surface\"}],\"table\":[{\"cells\":{\"fill\":{\"color\":\"#EBF0F8\"},\"line\":{\"color\":\"white\"}},\"header\":{\"fill\":{\"color\":\"#C8D4E3\"},\"line\":{\"color\":\"white\"}},\"type\":\"table\"}]},\"layout\":{\"annotationdefaults\":{\"arrowcolor\":\"#2a3f5f\",\"arrowhead\":0,\"arrowwidth\":1},\"autotypenumbers\":\"strict\",\"coloraxis\":{\"colorbar\":{\"outlinewidth\":0,\"ticks\":\"\"}},\"colorscale\":{\"diverging\":[[0,\"#8e0152\"],[0.1,\"#c51b7d\"],[0.2,\"#de77ae\"],[0.3,\"#f1b6da\"],[0.4,\"#fde0ef\"],[0.5,\"#f7f7f7\"],[0.6,\"#e6f5d0\"],[0.7,\"#b8e186\"],[0.8,\"#7fbc41\"],[0.9,\"#4d9221\"],[1,\"#276419\"]],\"sequential\":[[0.0,\"#0d0887\"],[0.1111111111111111,\"#46039f\"],[0.2222222222222222,\"#7201a8\"],[0.3333333333333333,\"#9c179e\"],[0.4444444444444444,\"#bd3786\"],[0.5555555555555556,\"#d8576b\"],[0.6666666666666666,\"#ed7953\"],[0.7777777777777778,\"#fb9f3a\"],[0.8888888888888888,\"#fdca26\"],[1.0,\"#f0f921\"]],\"sequentialminus\":[[0.0,\"#0d0887\"],[0.1111111111111111,\"#46039f\"],[0.2222222222222222,\"#7201a8\"],[0.3333333333333333,\"#9c179e\"],[0.4444444444444444,\"#bd3786\"],[0.5555555555555556,\"#d8576b\"],[0.6666666666666666,\"#ed7953\"],[0.7777777777777778,\"#fb9f3a\"],[0.8888888888888888,\"#fdca26\"],[1.0,\"#f0f921\"]]},\"colorway\":[\"#636efa\",\"#EF553B\",\"#00cc96\",\"#ab63fa\",\"#FFA15A\",\"#19d3f3\",\"#FF6692\",\"#B6E880\",\"#FF97FF\",\"#FECB52\"],\"font\":{\"color\":\"#2a3f5f\"},\"geo\":{\"bgcolor\":\"white\",\"lakecolor\":\"white\",\"landcolor\":\"#E5ECF6\",\"showlakes\":true,\"showland\":true,\"subunitcolor\":\"white\"},\"hoverlabel\":{\"align\":\"left\"},\"hovermode\":\"closest\",\"mapbox\":{\"style\":\"light\"},\"paper_bgcolor\":\"white\",\"plot_bgcolor\":\"#E5ECF6\",\"polar\":{\"angularaxis\":{\"gridcolor\":\"white\",\"linecolor\":\"white\",\"ticks\":\"\"},\"bgcolor\":\"#E5ECF6\",\"radialaxis\":{\"gridcolor\":\"white\",\"linecolor\":\"white\",\"ticks\":\"\"}},\"scene\":{\"xaxis\":{\"backgroundcolor\":\"#E5ECF6\",\"gridcolor\":\"white\",\"gridwidth\":2,\"linecolor\":\"white\",\"showbackground\":true,\"ticks\":\"\",\"zerolinecolor\":\"white\"},\"yaxis\":{\"backgroundcolor\":\"#E5ECF6\",\"gridcolor\":\"white\",\"gridwidth\":2,\"linecolor\":\"white\",\"showbackground\":true,\"ticks\":\"\",\"zerolinecolor\":\"white\"},\"zaxis\":{\"backgroundcolor\":\"#E5ECF6\",\"gridcolor\":\"white\",\"gridwidth\":2,\"linecolor\":\"white\",\"showbackground\":true,\"ticks\":\"\",\"zerolinecolor\":\"white\"}},\"shapedefaults\":{\"line\":{\"color\":\"#2a3f5f\"}},\"ternary\":{\"aaxis\":{\"gridcolor\":\"white\",\"linecolor\":\"white\",\"ticks\":\"\"},\"baxis\":{\"gridcolor\":\"white\",\"linecolor\":\"white\",\"ticks\":\"\"},\"bgcolor\":\"#E5ECF6\",\"caxis\":{\"gridcolor\":\"white\",\"linecolor\":\"white\",\"ticks\":\"\"}},\"title\":{\"x\":0.05},\"xaxis\":{\"automargin\":true,\"gridcolor\":\"white\",\"linecolor\":\"white\",\"ticks\":\"\",\"title\":{\"standoff\":15},\"zerolinecolor\":\"white\",\"zerolinewidth\":2},\"yaxis\":{\"automargin\":true,\"gridcolor\":\"white\",\"linecolor\":\"white\",\"ticks\":\"\",\"title\":{\"standoff\":15},\"zerolinecolor\":\"white\",\"zerolinewidth\":2}}},\"title\":{\"text\":\"Principal Component Analysis of Breast Cancer Dataset\",\"font\":{\"size\":20}},\"margin\":{\"r\":20,\"b\":10,\"l\":10,\"t\":30},\"scene\":{\"xaxis\":{\"title\":{\"text\":\"prin component 1\"}},\"yaxis\":{\"title\":{\"text\":\"prin component 2\"}},\"zaxis\":{\"title\":{\"text\":\"prin component 3\"}}},\"width\":800},                        {\"responsive\": true}                    ).then(function(){\n",
       "                            \n",
       "var gd = document.getElementById('3b505520-4ede-4b3a-9e6e-ee86b117e1ff');\n",
       "var x = new MutationObserver(function (mutations, observer) {{\n",
       "        var display = window.getComputedStyle(gd).display;\n",
       "        if (!display || display === 'none') {{\n",
       "            console.log([gd, 'removed!']);\n",
       "            Plotly.purge(gd);\n",
       "            observer.disconnect();\n",
       "        }}\n",
       "}});\n",
       "\n",
       "// Listen for the removal of the full notebook cells\n",
       "var notebookContainer = gd.closest('#notebook-container');\n",
       "if (notebookContainer) {{\n",
       "    x.observe(notebookContainer, {childList: true});\n",
       "}}\n",
       "\n",
       "// Listen for the clearing of the current output cell\n",
       "var outputEl = gd.closest('.output');\n",
       "if (outputEl) {{\n",
       "    x.observe(outputEl, {childList: true});\n",
       "}}\n",
       "\n",
       "                        })                };                });            </script>        </div>"
      ]
     },
     "metadata": {},
     "output_type": "display_data"
    }
   ],
   "source": [
    "import numpy as np\n",
    "import seaborn as sns\n",
    "import pandas as pd\n",
    "import plotly\n",
    "import plotly.graph_objs as go\n",
    "\n",
    "markercolor = breast_dataset['label']\n",
    "\n",
    "#Make plotly figure\n",
    "targets = ['Benign', 'Malignant']\n",
    "colors = ['red', 'green']\n",
    "fig1 = go.Figure()\n",
    "\n",
    "#I took the code that was in the reading and copied it below for getting the color and targets with the components\n",
    "for target, c in zip(targets,colors):\n",
    "    indicesToKeep = breast_dataset['label'] == target\n",
    "    fig1.add_trace(go.Scatter3d(x=principal_breast_Df.loc[indicesToKeep, 'principal component 1'],\n",
    "                 y=principal_breast_Df.loc[indicesToKeep, 'principal component 2'],\n",
    "                 z=principal_breast_Df.loc[indicesToKeep, 'principal component 3'],\n",
    "                 marker=dict(color=c,\n",
    "                             opacity=1,\n",
    "                             reversescale=True,\n",
    "                             size=5),\n",
    "                    line=dict (width=0.02),\n",
    "                    mode='markers',\n",
    "                    name=target))\n",
    "\n",
    "#Add label for legend\n",
    "fig1.update_traces(legendgrouptitle_text='Type')\n",
    "                   \n",
    "#Update layout to provide a title and labels on the x,y,z axes\n",
    "fig1.update_layout(title='Principal Component Analysis of Breast Cancer Dataset',\n",
    "                   title_font_size=20,\n",
    "                    scene=dict(\n",
    "                       xaxis_title='prin component 1',\n",
    "                       yaxis_title='prin component 2',\n",
    "                       zaxis_title='prin component 3'),\n",
    "                       width=800,\n",
    "                       margin=dict(r=20,b=10,l=10,t=30))\n",
    "                              \n",
    "\n",
    "#Plot\n",
    "fig1.show()"
   ]
  },
  {
   "cell_type": "code",
   "execution_count": null,
   "id": "1162960e",
   "metadata": {},
   "outputs": [],
   "source": []
  }
 ],
 "metadata": {
  "kernelspec": {
   "display_name": "Python 3 (ipykernel)",
   "language": "python",
   "name": "python3"
  },
  "language_info": {
   "codemirror_mode": {
    "name": "ipython",
    "version": 3
   },
   "file_extension": ".py",
   "mimetype": "text/x-python",
   "name": "python",
   "nbconvert_exporter": "python",
   "pygments_lexer": "ipython3",
   "version": "3.9.7"
  }
 },
 "nbformat": 4,
 "nbformat_minor": 5
}
